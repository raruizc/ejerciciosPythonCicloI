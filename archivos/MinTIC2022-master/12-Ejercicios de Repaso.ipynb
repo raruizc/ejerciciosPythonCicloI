{
 "cells": [
  {
   "cell_type": "markdown",
   "metadata": {},
   "source": [
    "# Repaso de ciclos, cadenas, tuplas y listas\n"
   ]
  },
  {
   "cell_type": "markdown",
   "metadata": {},
   "source": [
    "## Cobra Mosmas\n",
    "\n",
    "Al ver los precios y los anuncios del almacén Cobra Mosmas, un cliente le\n",
    "pide crear un programa de computador que le permita ingresar el precio\n",
    "individual de tres productos y el precio de la promoción en combo de los\n",
    "tres productos anunciada por el almacen y determine si es preferible\n",
    "comprarlos por separado o en el combo promoción. (Pensemos por 3\n",
    "minutos en definir claramente el problema)"
   ]
  },
  {
   "cell_type": "code",
   "execution_count": 1,
   "metadata": {},
   "outputs": [],
   "source": [
    "#piense aquí la solución"
   ]
  },
  {
   "cell_type": "markdown",
   "metadata": {},
   "source": [
    "### Solución"
   ]
  },
  {
   "cell_type": "code",
   "execution_count": 2,
   "metadata": {},
   "outputs": [
    {
     "name": "stdout",
     "output_type": "stream",
     "text": [
      "Precio primer producto?1\n",
      "Precio segundo producto?2\n",
      "Precio tercer producto?3\n",
      "Precio combo?4\n",
      "Comprar Combo\n"
     ]
    }
   ],
   "source": [
    "def comprar(p1,p2,p3,pc):\n",
    "    if pc <= p1+p2+p3:\n",
    "        return 'Combo'\n",
    "    else:\n",
    "        return 'Por separado'\n",
    "\n",
    "a=float(input('Precio primer producto?'))\n",
    "b=float(input('Precio segundo producto?'))\n",
    "c=float(input('Precio tercer producto?'))\n",
    "d=float(input('Precio combo?'))\n",
    "print(\"Comprar\",comprar(a,b,c,d))"
   ]
  },
  {
   "cell_type": "markdown",
   "metadata": {},
   "source": [
    "## La cerca\n",
    "\n",
    "Un campesino de la región le pide crear un programa de computador que\n",
    "le permita determinar cual de dos opciones (madera o alambre) es la mejor\n",
    "opción (menor costo) para encerrar un terreno rectangular de 𝑛 ∗ 𝑚 metros\n",
    "cuadrados, sabiendo el costo de un metro lineal de alambre, el costo de un\n",
    "metro de madera y la cantdad de hilos de alambre o hileras de madera. El\n",
    "campesino solo piensa en usar una de las dos opciones, no las piensa\n",
    "combinar. (Pensemos por 3 minutos en definir claramente el problema)"
   ]
  },
  {
   "cell_type": "code",
   "execution_count": 3,
   "metadata": {},
   "outputs": [
    {
     "name": "stdout",
     "output_type": "stream",
     "text": [
      "Largo terreno?2\n",
      "Ancho terreno?4\n",
      "Costo metro alambre?4\n",
      "Hilos de alambre?3\n",
      "Costo metro madera?2\n",
      "Hileras de madera?2\n",
      "Usar Madera\n"
     ]
    }
   ],
   "source": [
    "def en_madera(n,m,w,p):\n",
    "    return (2*n+2*m)*w*p\n",
    "\n",
    "def en_alambre(n,m,h,a):\n",
    "    return (2*n+2*m)*h*a\n",
    "\n",
    "def usar(n,m,h,a,w,p):\n",
    "    if en_madera(n,m,w,p) <= en_alambre(n,m,h,a):\n",
    "        return 'Madera'\n",
    "    else:\n",
    "        return 'Alambre'\n",
    "    \n",
    "n=float(input('Largo terreno?'))\n",
    "m=float(input('Ancho terreno?'))\n",
    "a=float(input('Costo metro alambre?'))\n",
    "h=int(input('Hilos de alambre?'))\n",
    "p=float(input('Costo metro madera?'))\n",
    "w=int(input('Hileras de madera?'))\n",
    "print(\"Usar\",usar(n,m,a,h,p,w))"
   ]
  },
  {
   "cell_type": "markdown",
   "metadata": {},
   "source": [
    "## Lista Escolar\n",
    "\n",
    "Unos padres de familia desesperados por determinar el dinero que debenpedir prestado para pagar los útiles escolares de su hijo, le han pedido crearun programa de computador que a partir de una lista de los precios de cada útil escolar y de la cantidad de cada útil escolar en la lista, determineel precio total de la lista. (Pensemos por 5 minutos en la solución)"
   ]
  },
  {
   "cell_type": "code",
   "execution_count": 8,
   "metadata": {},
   "outputs": [
    {
     "name": "stdout",
     "output_type": "stream",
     "text": [
      "Ingresar otro útil?S\n",
      "Precio útil?3999\n",
      "Cantidad?1\n",
      "Ingresar otro útil?N\n",
      "La lista cuesta 3999.0\n"
     ]
    }
   ],
   "source": [
    "def costo(precio, cantidad):\n",
    "    costo = 0\n",
    "    for i in range(0,len(precio)):\n",
    "        costo = costo + precio[i] * cantidad[i]\n",
    "    return costo\n",
    "\n",
    "precio = []\n",
    "cantidad = []\n",
    "while input('Ingresar otro útil?').upper()=='S':\n",
    "    precio.append(float(input('Precio útil?')))\n",
    "    cantidad.append(float(input('Cantidad?')))\n",
    "print(\"La lista cuesta\", costo(precio, cantidad))"
   ]
  },
  {
   "cell_type": "markdown",
   "metadata": {},
   "source": [
    "## ADN\n",
    "\n",
    "En la última edición de la revista científica ”ADN al día” se indica que laspruebas de relación entre individuos a partir de código genético se definede la siguiente manera: Si las dos cadenas se diferencian en menos de𝑝letras, existe una relación de padre-hijo, si se diferencian en menos de𝑓 > 𝑝letras, existe una relación de formar parte de la misma familia. Deotra manera no existe relación. El laboratorioTein Cul Pan, le pidedesarrollar un programa que a partir de dos cadenas de ADN del mismo tamaño, determine si existe una relación pader-hijo, de la misma familia o ninguna, siguiendo las reglas definidas por la revista científica ”ADN aldía”. (Pensemos por 5 minutos en la solución)"
   ]
  },
  {
   "cell_type": "code",
   "execution_count": null,
   "metadata": {},
   "outputs": [],
   "source": [
    "def diferencia(a,b):\n",
    "    cuenta = 0\n",
    "    for i in range(0,len(a)):\n",
    "        if a[i] != b[i]:\n",
    "            cuenta = cuenta + 1\n",
    "        return cuenta\n",
    "    \n",
    "    def relacion(a,b,p,f):\n",
    "        d = diferencia(a,b)\n",
    "        if d <= p:\n",
    "            return 'Padre-Hijo'\n",
    "        elif d <= f:\n",
    "            return 'Familia'\n",
    "        else:\n",
    "            return 'Ninguna'\n",
    "    \n",
    "ind1=input('Cadena ADN individuo 1?')\n",
    "ind2=input('Cadena ADN individuo 2?')\n",
    "p=int(input('Diferencia máxima para ser Padre-Hijo?'))\n",
    "f=int(input('Diferencia máxima para ser Familia?'))\n",
    "print(\"Relación\", relacion(ind1, ind2, f, p)"
   ]
  },
  {
   "cell_type": "markdown",
   "metadata": {},
   "source": [
    "## Extraer nombres de universidades Colombianas\n",
    "\n",
    "Dada una lista de Universidades Colombianas, obtener el nombre del sitio web. Se asume que un nombre de universidad está entre los caracteres www.  y edu.co. Por ejemplo de www.unal.edu.co se obtiene unal.\n",
    "\n",
    "*Entrada:*\n",
    "Un numero n indicando la cantidad de nombres de sitios web a procesar\n",
    "\n",
    "*Salida:*\n",
    "Listado de posibles nombres de universidades.\n",
    "\n",
    "*Ejemplo:*\n",
    "\n",
    "<table>\n",
    "    <tr>\n",
    "        <td>\n",
    "        Input\n",
    "        </td>\n",
    "        <td>\n",
    "        Output\n",
    "        </td>\n",
    "    </tr>\n",
    "    <tr>\n",
    "        <td>\n",
    "        5<br>\n",
    "        www.unal.edu.co<br>        \n",
    "        www.udistrital.edu.co<br>\n",
    "        www.univalle.edu.co<br>\n",
    "        www.javeriana.edu.co<br>\n",
    "        www.konradlorenz.edu.co<br>\n",
    "        </td>\n",
    "        <td>        \n",
    "        unal<br>\n",
    "        udistrital<br>\n",
    "        univalle<br>\n",
    "        javeriana<br>\n",
    "        konradlorenz<br>\n",
    "        </td>\n",
    "    </tr>   \n",
    "</table>\n",
    "\n"
   ]
  },
  {
   "cell_type": "code",
   "execution_count": 5,
   "metadata": {},
   "outputs": [],
   "source": [
    "#escriba aquí la solución"
   ]
  },
  {
   "cell_type": "markdown",
   "metadata": {},
   "source": [
    "## Solucion:\n"
   ]
  },
  {
   "cell_type": "code",
   "execution_count": 6,
   "metadata": {},
   "outputs": [
    {
     "name": "stdout",
     "output_type": "stream",
     "text": [
      "www.k.edu.co\n"
     ]
    },
    {
     "ename": "ValueError",
     "evalue": "invalid literal for int() with base 10: 'www.k.edu.co'",
     "output_type": "error",
     "traceback": [
      "\u001b[1;31m---------------------------------------------------------------------------\u001b[0m",
      "\u001b[1;31mValueError\u001b[0m                                Traceback (most recent call last)",
      "\u001b[1;32m<ipython-input-6-a226b4b4f3bd>\u001b[0m in \u001b[0;36m<module>\u001b[1;34m\u001b[0m\n\u001b[0;32m      7\u001b[0m         \u001b[0muni\u001b[0m \u001b[1;33m=\u001b[0m \u001b[0minput\u001b[0m\u001b[1;33m(\u001b[0m\u001b[1;33m)\u001b[0m\u001b[1;33m\u001b[0m\u001b[1;33m\u001b[0m\u001b[0m\n\u001b[0;32m      8\u001b[0m         \u001b[0mprint\u001b[0m\u001b[1;33m(\u001b[0m\u001b[0mprocess\u001b[0m\u001b[1;33m(\u001b[0m\u001b[0muni\u001b[0m\u001b[1;33m)\u001b[0m\u001b[1;33m)\u001b[0m\u001b[1;33m\u001b[0m\u001b[1;33m\u001b[0m\u001b[0m\n\u001b[1;32m----> 9\u001b[1;33m \u001b[0mmain\u001b[0m\u001b[1;33m(\u001b[0m\u001b[1;33m)\u001b[0m\u001b[1;33m\u001b[0m\u001b[1;33m\u001b[0m\u001b[0m\n\u001b[0m",
      "\u001b[1;32m<ipython-input-6-a226b4b4f3bd>\u001b[0m in \u001b[0;36mmain\u001b[1;34m()\u001b[0m\n\u001b[0;32m      3\u001b[0m \u001b[1;33m\u001b[0m\u001b[0m\n\u001b[0;32m      4\u001b[0m \u001b[1;32mdef\u001b[0m \u001b[0mmain\u001b[0m\u001b[1;33m(\u001b[0m\u001b[1;33m)\u001b[0m\u001b[1;33m:\u001b[0m\u001b[1;33m\u001b[0m\u001b[1;33m\u001b[0m\u001b[0m\n\u001b[1;32m----> 5\u001b[1;33m     \u001b[0mn\u001b[0m \u001b[1;33m=\u001b[0m \u001b[0mint\u001b[0m\u001b[1;33m(\u001b[0m\u001b[0minput\u001b[0m\u001b[1;33m(\u001b[0m\u001b[1;33m)\u001b[0m\u001b[1;33m)\u001b[0m\u001b[1;33m\u001b[0m\u001b[1;33m\u001b[0m\u001b[0m\n\u001b[0m\u001b[0;32m      6\u001b[0m     \u001b[1;32mfor\u001b[0m \u001b[0mi\u001b[0m \u001b[1;32min\u001b[0m \u001b[0mrange\u001b[0m\u001b[1;33m(\u001b[0m\u001b[0mn\u001b[0m\u001b[1;33m)\u001b[0m\u001b[1;33m:\u001b[0m\u001b[1;33m\u001b[0m\u001b[1;33m\u001b[0m\u001b[0m\n\u001b[0;32m      7\u001b[0m         \u001b[0muni\u001b[0m \u001b[1;33m=\u001b[0m \u001b[0minput\u001b[0m\u001b[1;33m(\u001b[0m\u001b[1;33m)\u001b[0m\u001b[1;33m\u001b[0m\u001b[1;33m\u001b[0m\u001b[0m\n",
      "\u001b[1;31mValueError\u001b[0m: invalid literal for int() with base 10: 'www.k.edu.co'"
     ]
    }
   ],
   "source": [
    "def process(uni):\n",
    "    return uni.split(\".\")[1]\n",
    "\n",
    "def main():\n",
    "    n = int(input())\n",
    "    for i in range(n):\n",
    "        uni = input()\n",
    "        print(process(uni))\n",
    "main()"
   ]
  },
  {
   "cell_type": "markdown",
   "metadata": {},
   "source": [
    "## Leer información de estudiantes y calcular el promedio de notas"
   ]
  },
  {
   "cell_type": "markdown",
   "metadata": {},
   "source": [
    "Se tienen que procesar algunos comandos para realizar el procesamiento de notas de una Universidad. Se tiene una lista de estudiantes \n",
    "\n",
    "- Comando 1: Agregar estudiante y nota `1&nombre_estudiante&nota`\n",
    "- Comando 2: Calcular promedio de los estudiantes en un momento dado `2`\n",
    "- Comando 3: Ordenar estudiantes agregados por nombre `3`\n",
    "- Comando 4: Consultar la nota de un estudiante `4&nombre_estudiante`\n",
    "- Comando 5: Visualizar lista de estudiantes `5`\n",
    "- Comando 6: Salir `6`\n",
    "\n"
   ]
  },
  {
   "cell_type": "code",
   "execution_count": null,
   "metadata": {},
   "outputs": [],
   "source": [
    "#ingrese aquí la solución"
   ]
  },
  {
   "cell_type": "markdown",
   "metadata": {},
   "source": [
    "Para poder resolver el problema se pueden identificar varias partes a resolver que pueden modelarse como funciones:\n",
    "\n",
    "- Definir la lista de estudiantes.\n",
    "- agregar un estudiante dada la información\n",
    "- calcular el promedio de notas de los estudiantes en un momento dado\n",
    "- ordenar estudiantes agregados por nombre\n",
    "- consultar la nota de un estudiante \n",
    "- visualizar lista\n",
    "- procesar los comandos\n",
    "- mostrar menu\n",
    "    "
   ]
  },
  {
   "cell_type": "markdown",
   "metadata": {},
   "source": [
    "## Solución"
   ]
  },
  {
   "cell_type": "code",
   "execution_count": null,
   "metadata": {},
   "outputs": [],
   "source": [
    "# definir la lista de estudiantes un estudiante puede ser modelado como una tupla (por ahora)"
   ]
  },
  {
   "cell_type": "code",
   "execution_count": null,
   "metadata": {},
   "outputs": [],
   "source": [
    "\n",
    "def agregar_estudiante(estudiantes, est):    \n",
    "    estudiantes.append(est)\n",
    "\n",
    "def promedio(estudiantes):\n",
    "    prom = 0\n",
    "    #print(estudiantes)\n",
    "    for estudiante in estudiantes:\n",
    "        prom += float(estudiante[1])\n",
    "    print(\"El promedio de los estudiantes es: \" + str(prom/len(estudiantes)))\n",
    "\n",
    "def ordenar(estudiantes):\n",
    "    estudiantes.sort()\n",
    "\n",
    "def consultar(estudiantes, nombre):\n",
    "    encontrado = False\n",
    "    for estudiante in estudiantes:\n",
    "        if estudiante[0] == nombre:\n",
    "            encontrado = True\n",
    "            print(estudiante[1])\n",
    "    if not encontrado:\n",
    "        print(\"Estudiante no encontrado\")\n",
    "        \n",
    "def visualizar(estudiantes):\n",
    "    print(\"Lista de estudiantes\".center(30, \"#\"))\n",
    "    if len(estudiantes) == 0:\n",
    "        print(\"No hay estudiantes registrados.\")\n",
    "    for e in estudiantes:\n",
    "        print(\"Nombre: \" + e[0] + \", nota:\" + str(e[1]))\n",
    "            \n",
    "def procesar_comandos():\n",
    "    bandera = True\n",
    "    estudiantes = []\n",
    "    comando = [0]\n",
    "    while bandera or comando[0] != \"6\":\n",
    "        bandera = False\n",
    "        mostrar_menu()\n",
    "        comando = input().split(\"&\")\n",
    "        print(comando[0])\n",
    "        if comando[0] == \"1\":\n",
    "            agregar_estudiante(estudiantes, (comando[1], float(comando[2])))\n",
    "        elif comando[0] == \"2\":\n",
    "            promedio(estudiantes)\n",
    "        elif comando[0] == \"3\":\n",
    "            ordenar(estudiantes)\n",
    "        elif comando[0] == \"4\":\n",
    "            consultar(estudiantes, comando[1])        \n",
    "        elif comando[0] == \"5\":\n",
    "            visualizar(estudiantes)\n",
    "            \n",
    "def mostrar_menu():\n",
    "    print(\"Seleccione una opción:\")\n",
    "    print(\"Comando 1: Agregar estudiante y nota `1&nombre_estudiante&nota`\")\n",
    "    print(\"Comando 2: Calcular promedio de los estudiantes en un momento dado.\")\n",
    "    print(\"Comando 3: Ordenar estudiantes agregados por nombre\")\n",
    "    print(\"Comando 4: Consultar la nota de un estudiante `4&nombre_estudiante`\")\n",
    "    print(\"Comando 5: Visualizar\")\n",
    "    print(\"Comando 6: Salir\")\n",
    "\n",
    "\n",
    "procesar_comandos()\n",
    "\n",
    "\"\"\"\n",
    "1&Antonia&5.0\n",
    "1&Juan&2.4\n",
    "1&Pedro&4.3\n",
    "\"\"\""
   ]
  },
  {
   "cell_type": "markdown",
   "metadata": {},
   "source": [
    "## Entendiendo los sentimientos de Groot\n",
    "\n",
    "El lenguaje de Groot es muy complicado para expresar sentimientos. Los sentimientos tienen n capas.\n",
    "\n",
    "Si n = 1, el sentimiento será \"I hate it\",  si n = 2 es \"I hate that I love it\", y si n = 3 es \"I hate that I love that I hate it\" y así sucesivamente.\n",
    "\n",
    "*Entrada:*\n",
    "La cantidad n de capas donde $n \\geq 1$\n",
    "\n",
    "*Salida:*\n",
    "Muestre la frase que Groot está tratando de decir.\n",
    "\n",
    "\n",
    "*Ejemplo 1:*\n",
    "\n",
    "<table>\n",
    "    <tr>\n",
    "    <td>Input</td><td>Output</td>\n",
    "    </tr>\n",
    "    <tr>\n",
    "        <td>1</td><td>I hate it</td>\n",
    "    </tr>\n",
    "</table>\n",
    "\n",
    "\n",
    "Ejemplo 2:\n",
    "\n",
    "<table>\n",
    "    <tr>\n",
    "    <td>Input</td><td>Output</td>\n",
    "    </tr>\n",
    "    <tr>\n",
    "        <td>2</td><td>I hate that I love it</td>\n",
    "    </tr>\n",
    "</table>\n",
    "\n",
    "Ejemplo 3:\n",
    "\n",
    "<table>\n",
    "    <tr>\n",
    "    <td>Input</td><td>Output</td>\n",
    "    </tr>\n",
    "    <tr>\n",
    "        <td>3</td><td>I hate that I love that I hate it</td>\n",
    "    </tr>\n",
    "</table>"
   ]
  },
  {
   "cell_type": "code",
   "execution_count": null,
   "metadata": {},
   "outputs": [],
   "source": [
    "#piense aquí la solución en caso de no plantear ninguna abra la siguiente celda"
   ]
  },
  {
   "cell_type": "markdown",
   "metadata": {},
   "source": [
    "### Una posible opción para groot\n",
    "\n",
    "Una posible opción puede ser construir una tupla ó lista con dos elementos: \n"
   ]
  },
  {
   "cell_type": "code",
   "execution_count": null,
   "metadata": {},
   "outputs": [],
   "source": [
    "emocion = [\"I hate\", \"I love\"]\n"
   ]
  },
  {
   "cell_type": "markdown",
   "metadata": {},
   "source": [
    "Puede ir alternando entre posiciones de la lista el ciclo así:"
   ]
  },
  {
   "cell_type": "code",
   "execution_count": null,
   "metadata": {},
   "outputs": [],
   "source": [
    "salida = []\n",
    "\n",
    "n = int(input())\n",
    "\n",
    "for i in range(n):\n",
    "    salida.append(emocion[i%2])\n",
    "\n",
    "print(salida)"
   ]
  },
  {
   "cell_type": "markdown",
   "metadata": {},
   "source": [
    "Se puede usar join con that..."
   ]
  },
  {
   "cell_type": "code",
   "execution_count": null,
   "metadata": {},
   "outputs": [],
   "source": [
    "res = \" that \".join(salida) "
   ]
  },
  {
   "cell_type": "markdown",
   "metadata": {},
   "source": [
    "Agregue it:"
   ]
  },
  {
   "cell_type": "code",
   "execution_count": null,
   "metadata": {},
   "outputs": [],
   "source": [
    "res += \" it \"\n",
    "print(res)"
   ]
  },
  {
   "cell_type": "markdown",
   "metadata": {},
   "source": [
    "Es posible generar esta solución con una lista creada por comprensión?"
   ]
  },
  {
   "cell_type": "code",
   "execution_count": null,
   "metadata": {},
   "outputs": [],
   "source": [
    "#intentelo aquí"
   ]
  },
  {
   "cell_type": "markdown",
   "metadata": {},
   "source": [
    "### Solución"
   ]
  },
  {
   "cell_type": "code",
   "execution_count": null,
   "metadata": {},
   "outputs": [],
   "source": [
    "emocion = [\"I hate\", \"I love\"]\n",
    "salida = \" that \".join([emocion[i % 2] for i in range(n)])+\" it\"\n",
    "print(salida)"
   ]
  },
  {
   "cell_type": "markdown",
   "metadata": {},
   "source": [
    "## Simplificador de Fracciones\n",
    "\n",
    "Utilizando funciones recursivas, elabore un programa que simplifique una fracción escrita de la forma a/b.\n",
    "\n",
    "Ejemplo: \n",
    "<table>\n",
    "    <tr><td>Entrada</td><td>Salida</td></tr>\n",
    "    <tr><td>6/4</td><td>3/2</td></tr>\n",
    "</table>\n"
   ]
  },
  {
   "cell_type": "code",
   "execution_count": null,
   "metadata": {},
   "outputs": [],
   "source": []
  }
 ],
 "metadata": {
  "kernelspec": {
   "display_name": "Python 3",
   "language": "python",
   "name": "python3"
  },
  "language_info": {
   "codemirror_mode": {
    "name": "ipython",
    "version": 3
   },
   "file_extension": ".py",
   "mimetype": "text/x-python",
   "name": "python",
   "nbconvert_exporter": "python",
   "pygments_lexer": "ipython3",
   "version": "3.7.3"
  }
 },
 "nbformat": 4,
 "nbformat_minor": 2
}
