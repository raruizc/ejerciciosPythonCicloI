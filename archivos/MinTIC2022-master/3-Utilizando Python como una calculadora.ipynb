{
 "cells": [
  {
   "cell_type": "markdown",
   "metadata": {},
   "source": [
    "# Utilizando Python como una calculadora\n"
   ]
  },
  {
   "cell_type": "markdown",
   "metadata": {},
   "source": [
    "## Identificadores y variables en python\n",
    "\n",
    "Un *identificador* es una secuencia de símbolos que se utilizan como nombres de variables, funciones, clases y otras estructuras de los lenguajes de programación.\n",
    "\n",
    "Los identificadores se escriben como secuencias de caracteres alfanuméricos del alfabeto inglés. En python se utiliza una notación conocida como snake_case (ó palabras en minúsculas separadas por guiones) para evitar utilizar espacios como por ejemplo: conteo_animales, nombre_usuario, velocidad, etc. Se recomienda utilizar únicamente letras del alfabeto inglés a la hora de usar identificadores.\n",
    "\n",
    "\n",
    "### Palabras reservadas \n",
    "\n",
    "```\n",
    "# Estas son las palabras reservadas de python\n",
    "False      await      else       import     pass\n",
    "None       break      except     in         raise\n",
    "True       class      finally    is         return\n",
    "and        continue   for        lambda     try\n",
    "as         def        from       nonlocal   while\n",
    "assert     del        global     not        with\n",
    "async      elif       if         or         yield\n",
    "\n",
    "```\n",
    "\n",
    "Fuente:  https://docs.python.org/3/reference/lexical_analysis.html#identifiers\n",
    "\n",
    "Son ejemplos de identificadores válidos:\n",
    "\n",
    "```\n",
    "i\n",
    "x\n",
    "suma\n",
    "sumando1\n",
    "sumando2\n",
    "edad \n",
    "pais_de_nacimiento\n",
    "nombre \n",
    "area_circulo\n",
    "\n",
    "```\n",
    "\n",
    "Los identificadores son sensibles a mayúsculas y minúsculas, esto quiere decir que por ejemplo los identificadores `dia`,  `DIA` y `Dia` harían referencia a variables distintas.\n",
    "\n"
   ]
  },
  {
   "cell_type": "code",
   "execution_count": 1,
   "metadata": {},
   "outputs": [
    {
     "name": "stdout",
     "output_type": "stream",
     "text": [
      "Dia=lunes dia=martes DIA=miercoles dIA=jueves\n"
     ]
    }
   ],
   "source": [
    "Dia = 'lunes'\n",
    "dia = 'martes'\n",
    "dIA = 'jueves'\n",
    "DIA = 'miercoles'\n",
    "\n",
    "print('Dia={} dia={} DIA={} dIA={}'.format(Dia,dia,DIA, dIA))"
   ]
  },
  {
   "cell_type": "markdown",
   "metadata": {},
   "source": [
    "## Tipos de datos escalares\n",
    "\n",
    "Los programas manipularán diferentes tipos de datos. Cada objeto tiene un tipo de datos asociado a el. Se tienen tipos de datos escalares que corresponden a: \n",
    "\n",
    "- `int` representa números enteros ejemplo: 5, -5\n",
    "- `float` representa números reales 3.27\n",
    "- `bool` representa valores booleanos `True` y `False`\n",
    "- `Nonetype` es especial y tiene un único valor `None`\n",
    "\n",
    "es posible usar type() para ver el tipo de dato de un objeto:"
   ]
  },
  {
   "cell_type": "code",
   "execution_count": 4,
   "metadata": {},
   "outputs": [
    {
     "data": {
      "text/plain": [
       "float"
      ]
     },
     "execution_count": 4,
     "metadata": {},
     "output_type": "execute_result"
    }
   ],
   "source": [
    "x = 5.6e12\n",
    "type(x)"
   ]
  },
  {
   "cell_type": "code",
   "execution_count": 28,
   "metadata": {},
   "outputs": [
    {
     "data": {
      "text/plain": [
       "int"
      ]
     },
     "execution_count": 28,
     "metadata": {},
     "output_type": "execute_result"
    }
   ],
   "source": [
    "type(5)"
   ]
  },
  {
   "cell_type": "code",
   "execution_count": 29,
   "metadata": {},
   "outputs": [
    {
     "data": {
      "text/plain": [
       "float"
      ]
     },
     "execution_count": 29,
     "metadata": {},
     "output_type": "execute_result"
    }
   ],
   "source": [
    "type(3.0)"
   ]
  },
  {
   "cell_type": "code",
   "execution_count": 30,
   "metadata": {},
   "outputs": [
    {
     "data": {
      "text/plain": [
       "NoneType"
      ]
     },
     "execution_count": 30,
     "metadata": {},
     "output_type": "execute_result"
    }
   ],
   "source": [
    "type(None)"
   ]
  },
  {
   "cell_type": "code",
   "execution_count": 31,
   "metadata": {},
   "outputs": [
    {
     "data": {
      "text/plain": [
       "bool"
      ]
     },
     "execution_count": 31,
     "metadata": {},
     "output_type": "execute_result"
    }
   ],
   "source": [
    "type(True)"
   ]
  },
  {
   "cell_type": "code",
   "execution_count": 10,
   "metadata": {},
   "outputs": [],
   "source": [
    "city='London' # A string variable assignment.\n",
    "money = 100.75 # A floating point number assignment\n",
    "count=4 #An integer assignment"
   ]
  },
  {
   "cell_type": "code",
   "execution_count": 11,
   "metadata": {},
   "outputs": [
    {
     "data": {
      "text/plain": [
       "str"
      ]
     },
     "execution_count": 11,
     "metadata": {},
     "output_type": "execute_result"
    }
   ],
   "source": [
    "type(city)"
   ]
  },
  {
   "cell_type": "code",
   "execution_count": 12,
   "metadata": {},
   "outputs": [
    {
     "data": {
      "text/plain": [
       "float"
      ]
     },
     "execution_count": 12,
     "metadata": {},
     "output_type": "execute_result"
    }
   ],
   "source": [
    "type(money)"
   ]
  },
  {
   "cell_type": "code",
   "execution_count": 8,
   "metadata": {},
   "outputs": [
    {
     "data": {
      "text/plain": [
       "int"
      ]
     },
     "execution_count": 8,
     "metadata": {},
     "output_type": "execute_result"
    }
   ],
   "source": [
    "city = 2\n",
    "type(city)"
   ]
  },
  {
   "cell_type": "markdown",
   "metadata": {},
   "source": [
    "## Operaciones aritméticas y lógicas"
   ]
  },
  {
   "cell_type": "markdown",
   "metadata": {},
   "source": [
    "Los operadores aritméticos principales son:\n"
   ]
  },
  {
   "cell_type": "markdown",
   "metadata": {},
   "source": [
    "- Suma: +\n",
    "- Resta: -\n",
    "- Multiplicación: *\n",
    "- División entera: //\n",
    "- División real: /\n",
    "- Residuo: %\n",
    "- Potencia: **\n",
    "- Asignación: =\n",
    "- Asignación con suma: +=\n",
    "- Asignación con resta: -=\n",
    "\n",
    "A continuación se muestran algunos ejemplos de operaciones básicas:"
   ]
  },
  {
   "cell_type": "code",
   "execution_count": 13,
   "metadata": {},
   "outputs": [
    {
     "data": {
      "text/plain": [
       "2.3333333333333335"
      ]
     },
     "execution_count": 13,
     "metadata": {},
     "output_type": "execute_result"
    }
   ],
   "source": [
    "#división que te va a dar como resultado un número real.\n",
    "7/3\n"
   ]
  },
  {
   "cell_type": "code",
   "execution_count": 14,
   "metadata": {},
   "outputs": [
    {
     "data": {
      "text/plain": [
       "2"
      ]
     },
     "execution_count": 14,
     "metadata": {},
     "output_type": "execute_result"
    }
   ],
   "source": [
    "#División que te va a dar como resultado un número entero\n",
    "7//3\n"
   ]
  },
  {
   "cell_type": "code",
   "execution_count": 51,
   "metadata": {},
   "outputs": [
    {
     "data": {
      "text/plain": [
       "0"
      ]
     },
     "execution_count": 51,
     "metadata": {},
     "output_type": "execute_result"
    }
   ],
   "source": [
    "1//4"
   ]
  },
  {
   "cell_type": "code",
   "execution_count": 52,
   "metadata": {},
   "outputs": [
    {
     "data": {
      "text/plain": [
       "0.25"
      ]
     },
     "execution_count": 52,
     "metadata": {},
     "output_type": "execute_result"
    }
   ],
   "source": [
    "1/4"
   ]
  },
  {
   "cell_type": "code",
   "execution_count": 15,
   "metadata": {},
   "outputs": [
    {
     "data": {
      "text/plain": [
       "2"
      ]
     },
     "execution_count": 15,
     "metadata": {},
     "output_type": "execute_result"
    }
   ],
   "source": [
    "#Ejemplo de la operación residuo\n",
    "17 % 3"
   ]
  },
  {
   "cell_type": "code",
   "execution_count": 19,
   "metadata": {},
   "outputs": [
    {
     "data": {
      "text/plain": [
       "2097152"
      ]
     },
     "execution_count": 19,
     "metadata": {},
     "output_type": "execute_result"
    }
   ],
   "source": [
    "8*8*8*8*8*8*8"
   ]
  },
  {
   "cell_type": "code",
   "execution_count": 20,
   "metadata": {},
   "outputs": [
    {
     "data": {
      "text/plain": [
       "2097152"
      ]
     },
     "execution_count": 20,
     "metadata": {},
     "output_type": "execute_result"
    }
   ],
   "source": [
    "8**7"
   ]
  },
  {
   "cell_type": "code",
   "execution_count": 29,
   "metadata": {},
   "outputs": [
    {
     "name": "stdout",
     "output_type": "stream",
     "text": [
      "15\n"
     ]
    }
   ],
   "source": [
    "x = 5*3\n",
    "print(x)"
   ]
  },
  {
   "cell_type": "code",
   "execution_count": 30,
   "metadata": {},
   "outputs": [
    {
     "name": "stdout",
     "output_type": "stream",
     "text": [
      "17\n"
     ]
    }
   ],
   "source": [
    "x = x + 2\n",
    "print(x)"
   ]
  },
  {
   "cell_type": "code",
   "execution_count": 31,
   "metadata": {},
   "outputs": [
    {
     "name": "stdout",
     "output_type": "stream",
     "text": [
      "19\n"
     ]
    }
   ],
   "source": [
    "x += 2 # x = x + 2\n",
    "print(x)"
   ]
  },
  {
   "cell_type": "code",
   "execution_count": 41,
   "metadata": {},
   "outputs": [
    {
     "name": "stdout",
     "output_type": "stream",
     "text": [
      "29\n"
     ]
    }
   ],
   "source": [
    "y =  4 * 6\n",
    "z = 5\n",
    "y += z\n",
    "print(y)"
   ]
  },
  {
   "cell_type": "markdown",
   "metadata": {},
   "source": [
    "# Operadores lógicos y de Comparación:\n",
    "\n",
    "Python posee los siguientes operadores lógicos básicos:\n",
    "\n",
    "- ```and, or, not``` \n",
    "\n",
    "Y los siguientes operadores de comparación:\n",
    "\n",
    "- ```a == b```: retorna verdadero si los valores de a y b son iguales, falso en otro caso.\n",
    "- ```a != b ```: retorna verdadero si los valores son diferentes, falso en otro caso.\n",
    "- ```a >= b```: retorna verdadero si a es mayor o igual a b. \n",
    "- ```a > b```: retorna verdadero si a es mayor a b. \n",
    "- ```a <= b```: retorna verdadero si a es menor o igual a b.\n",
    "- ```a < b```: retorna verdadero si a es menor a b.\n",
    "\n",
    "A continuación algunos ejemplos:"
   ]
  },
  {
   "cell_type": "code",
   "execution_count": 42,
   "metadata": {},
   "outputs": [
    {
     "name": "stdout",
     "output_type": "stream",
     "text": [
      "False\n"
     ]
    }
   ],
   "source": [
    "a = 3\n",
    "b = 4\n",
    "\n",
    "print(a == b)"
   ]
  },
  {
   "cell_type": "code",
   "execution_count": 43,
   "metadata": {},
   "outputs": [
    {
     "name": "stdout",
     "output_type": "stream",
     "text": [
      "False\n"
     ]
    }
   ],
   "source": [
    "x = 3\n",
    "y = 5\n",
    "print(x > y)"
   ]
  },
  {
   "cell_type": "code",
   "execution_count": 44,
   "metadata": {},
   "outputs": [
    {
     "data": {
      "text/plain": [
       "False"
      ]
     },
     "execution_count": 44,
     "metadata": {},
     "output_type": "execute_result"
    }
   ],
   "source": [
    "-4 <= -7"
   ]
  },
  {
   "cell_type": "code",
   "execution_count": 45,
   "metadata": {},
   "outputs": [
    {
     "name": "stdout",
     "output_type": "stream",
     "text": [
      "True\n"
     ]
    }
   ],
   "source": [
    "x = 5*3\n",
    "y = 15\n",
    "\n",
    "print(x == y)"
   ]
  },
  {
   "cell_type": "code",
   "execution_count": 49,
   "metadata": {},
   "outputs": [
    {
     "name": "stdout",
     "output_type": "stream",
     "text": [
      "False\n"
     ]
    }
   ],
   "source": [
    "Claudia_pone_metro = False\n",
    "Claudia_es_buena_alcaldesa = False\n",
    "\n",
    "print(Claudia_pone_metro and Claudia_es_buena_alcaldesa)"
   ]
  },
  {
   "cell_type": "code",
   "execution_count": 69,
   "metadata": {},
   "outputs": [
    {
     "name": "stdout",
     "output_type": "stream",
     "text": [
      "True\n"
     ]
    }
   ],
   "source": [
    "p = False # hoy es lunes\n",
    "q = False  # dos es impar\n",
    "\n",
    "print(not p or q)"
   ]
  },
  {
   "cell_type": "markdown",
   "metadata": {},
   "source": [
    "# Operaciones a nivel de bits"
   ]
  },
  {
   "cell_type": "markdown",
   "metadata": {},
   "source": [
    "Python también soporta operaciones a nivel de bits:\n",
    "- ```|``` or lógica\n",
    "- ```&``` and lógico\n",
    "- ```~``` not (unario)\n",
    "- ```^``` xor\n",
    "- ```>>``` corrimiento en bits a derecha\n",
    "- ```<<``` corrimiento en bits a izquierda\n",
    "    "
   ]
  },
  {
   "cell_type": "code",
   "execution_count": 70,
   "metadata": {},
   "outputs": [
    {
     "data": {
      "text/plain": [
       "29"
      ]
     },
     "execution_count": 70,
     "metadata": {},
     "output_type": "execute_result"
    }
   ],
   "source": [
    "24 | 5"
   ]
  },
  {
   "cell_type": "code",
   "execution_count": 71,
   "metadata": {},
   "outputs": [
    {
     "data": {
      "text/plain": [
       "0"
      ]
     },
     "execution_count": 71,
     "metadata": {},
     "output_type": "execute_result"
    }
   ],
   "source": [
    "24 & 5"
   ]
  },
  {
   "cell_type": "code",
   "execution_count": 72,
   "metadata": {},
   "outputs": [
    {
     "data": {
      "text/plain": [
       "1211"
      ]
     },
     "execution_count": 72,
     "metadata": {},
     "output_type": "execute_result"
    }
   ],
   "source": [
    "2422 >> 1"
   ]
  },
  {
   "cell_type": "code",
   "execution_count": 11,
   "metadata": {},
   "outputs": [
    {
     "data": {
      "text/plain": [
       "1"
      ]
     },
     "execution_count": 11,
     "metadata": {},
     "output_type": "execute_result"
    }
   ],
   "source": [
    "5 & 1 "
   ]
  },
  {
   "cell_type": "code",
   "execution_count": 50,
   "metadata": {},
   "outputs": [
    {
     "data": {
      "text/plain": [
       "0"
      ]
     },
     "execution_count": 50,
     "metadata": {},
     "output_type": "execute_result"
    }
   ],
   "source": [
    "4 & 1"
   ]
  },
  {
   "cell_type": "code",
   "execution_count": 51,
   "metadata": {},
   "outputs": [
    {
     "data": {
      "text/plain": [
       "4"
      ]
     },
     "execution_count": 51,
     "metadata": {},
     "output_type": "execute_result"
    }
   ],
   "source": [
    "1 << 2"
   ]
  },
  {
   "cell_type": "code",
   "execution_count": 86,
   "metadata": {},
   "outputs": [
    {
     "data": {
      "text/plain": [
       "28"
      ]
     },
     "execution_count": 86,
     "metadata": {},
     "output_type": "execute_result"
    }
   ],
   "source": [
    "24^4 #xor"
   ]
  },
  {
   "cell_type": "code",
   "execution_count": 87,
   "metadata": {},
   "outputs": [
    {
     "data": {
      "text/plain": [
       "-5"
      ]
     },
     "execution_count": 87,
     "metadata": {},
     "output_type": "execute_result"
    }
   ],
   "source": [
    "~4"
   ]
  },
  {
   "cell_type": "code",
   "execution_count": 89,
   "metadata": {},
   "outputs": [
    {
     "data": {
      "text/plain": [
       "55"
      ]
     },
     "execution_count": 89,
     "metadata": {},
     "output_type": "execute_result"
    }
   ],
   "source": [
    "63 & ~(1 << 3)"
   ]
  },
  {
   "cell_type": "markdown",
   "metadata": {},
   "source": [
    "## Conversión de tipos (casting)\n",
    "\n",
    "Para realizar la conversión de tipos se utiliza el nombre del tipo de dato y paréntesis:"
   ]
  },
  {
   "cell_type": "code",
   "execution_count": 91,
   "metadata": {},
   "outputs": [
    {
     "data": {
      "text/plain": [
       "4"
      ]
     },
     "execution_count": 91,
     "metadata": {},
     "output_type": "execute_result"
    }
   ],
   "source": [
    "int(4.77)"
   ]
  },
  {
   "cell_type": "code",
   "execution_count": 8,
   "metadata": {},
   "outputs": [
    {
     "data": {
      "text/plain": [
       "65.0"
      ]
     },
     "execution_count": 8,
     "metadata": {},
     "output_type": "execute_result"
    }
   ],
   "source": [
    "float(65)"
   ]
  },
  {
   "cell_type": "code",
   "execution_count": 92,
   "metadata": {},
   "outputs": [
    {
     "data": {
      "text/plain": [
       "'98'"
      ]
     },
     "execution_count": 92,
     "metadata": {},
     "output_type": "execute_result"
    }
   ],
   "source": [
    "str(98)"
   ]
  },
  {
   "cell_type": "code",
   "execution_count": 55,
   "metadata": {},
   "outputs": [
    {
     "name": "stdout",
     "output_type": "stream",
     "text": [
      "98\n"
     ]
    }
   ],
   "source": [
    "var = 98\n",
    "print(var)"
   ]
  },
  {
   "cell_type": "markdown",
   "metadata": {},
   "source": [
    "## Lectura de variables desde la entrada estándar\n",
    "\n",
    "Es posible leer valores digitados por el usuario de la siguiente forma:"
   ]
  },
  {
   "cell_type": "code",
   "execution_count": 59,
   "metadata": {},
   "outputs": [
    {
     "name": "stdout",
     "output_type": "stream",
     "text": [
      "solito\n",
      "valor leido: solito\n"
     ]
    }
   ],
   "source": [
    "x = input()\n",
    "print(\"valor leido: \" + x)"
   ]
  },
  {
   "cell_type": "code",
   "execution_count": 60,
   "metadata": {},
   "outputs": [
    {
     "name": "stdout",
     "output_type": "stream",
     "text": [
      "digite su nombre:Arles\n",
      "Hola Arles!!!!!\n"
     ]
    }
   ],
   "source": [
    "nombre = input('digite su nombre:')\n",
    "print(\"Hola \" + nombre + \"!!!!!\")"
   ]
  },
  {
   "cell_type": "code",
   "execution_count": 1,
   "metadata": {},
   "outputs": [
    {
     "name": "stdout",
     "output_type": "stream",
     "text": [
      "digite el valor de la compra: 277276\n",
      "El valor a pagar es: 249548.4\n",
      "Tu ahorro fue de: 27727.600000000002\n"
     ]
    }
   ],
   "source": [
    "valor_compra = float(input(\"digite el valor de la compra: \"))\n",
    "#crear la variable porcentaje descuento y leer el valor\n",
    "descuento = valor_compra*0.1 #hay un descuento del 10%\n",
    "valor_a_pagar = valor_compra - descuento\n",
    "print(\"El valor a pagar es: \" + str(valor_a_pagar))\n",
    "print('Tu ahorro fue de: ' + str(descuento))"
   ]
  },
  {
   "cell_type": "markdown",
   "metadata": {},
   "source": [
    "### Ejercicio 1\n",
    "\n",
    "- Ejercicio 1: Utilizando el programa anterior, leer el descuento y calcular valor a pagar y ahorro.\n"
   ]
  },
  {
   "cell_type": "code",
   "execution_count": null,
   "metadata": {},
   "outputs": [],
   "source": []
  },
  {
   "cell_type": "markdown",
   "metadata": {},
   "source": [
    "### Ejercicio 2\n",
    "\n",
    "Elabore un programa que Calcule el área de un rectángulo.\n"
   ]
  },
  {
   "cell_type": "code",
   "execution_count": null,
   "metadata": {},
   "outputs": [],
   "source": []
  },
  {
   "cell_type": "markdown",
   "metadata": {},
   "source": [
    "### Ejercicio 3: \n",
    "\n",
    "Elabore un programa que Calcule el área de un círculo."
   ]
  },
  {
   "cell_type": "code",
   "execution_count": 2,
   "metadata": {},
   "outputs": [
    {
     "name": "stdout",
     "output_type": "stream",
     "text": [
      "3.141592653589793\n"
     ]
    }
   ],
   "source": [
    "from math import pi\n",
    "print(pi)\n"
   ]
  },
  {
   "cell_type": "markdown",
   "metadata": {},
   "source": [
    "## Ejercicio 4: Cajero Electrónico\n",
    "\n",
    "El banco unaleño requiere su ayuda para la implementación de cajeros electrónicos en ciudad Gótica. Gótica tiene billetes de $10.000, $20.000, $50.000 y $100.000.\n",
    "\n",
    "El banco desea emplear la menor cantidad de billetes posibles cuando un ciudadano realiza un retiro. El banco en otro desarrollo de software ya se aseguró de que la cantidad de dinero a retirar sea múltiplo de 10000.\n",
    "\n",
    "Entrada\n",
    "\n",
    "La entrada es un valor a retirar. Se garantiza que el valor a retirar es múltiplo de 10.000\n",
    "\n",
    "Salida\n",
    "\n",
    "El número de billetes a repartir de cada denominación en el formato mostrado en las ejecuciones de ejemplo:\n",
    "\n",
    "Ejemplo\n",
    "\n",
    "<table>\n",
    "    <tr>\n",
    "        <td>\n",
    "        Input\n",
    "        </td>\n",
    "        <td>\n",
    "        Output\n",
    "        </td>\n",
    "    </tr>\n",
    "    <tr>\n",
    "        <td>\n",
    "        560000\n",
    "        </td>\n",
    "        <td><p>\n",
    "            5 x \\$100000 <br>   \n",
    "            1 x \\$50000<br>\n",
    "            0 x \\$20000<br>\n",
    "            1 x \\$10000<br>\n",
    "           </p>\n",
    "        </td>\n",
    "    </tr>   \n",
    "   \n",
    "</table>\n"
   ]
  },
  {
   "cell_type": "code",
   "execution_count": 19,
   "metadata": {},
   "outputs": [
    {
     "name": "stdout",
     "output_type": "stream",
     "text": [
      "1000\n",
      "2 años 9 mes(es) 0día(s)\n"
     ]
    }
   ],
   "source": []
  },
  {
   "cell_type": "markdown",
   "metadata": {},
   "source": [
    "## Referencias:\n",
    "\n",
    "https://docs.python.org/3/reference/lexical_analysis.html#identifiers\n",
    "\n",
    "Das, B. N. (2017). Learn Python in 7 Days. Packt Publishing Ltd.\n",
    "\n",
    "\n",
    "Gomez, J, Rodriguez A y Cubides C. La ciencia de Programar. Universidad Nacional de Colombia.\n",
    "\n",
    "Rodríguez, A (2020). Curso de Programación en Python. https://github.com/arleserp/cursopython"
   ]
  },
  {
   "cell_type": "code",
   "execution_count": null,
   "metadata": {},
   "outputs": [],
   "source": []
  }
 ],
 "metadata": {
  "kernelspec": {
   "display_name": "Python 3",
   "language": "python",
   "name": "python3"
  },
  "language_info": {
   "codemirror_mode": {
    "name": "ipython",
    "version": 3
   },
   "file_extension": ".py",
   "mimetype": "text/x-python",
   "name": "python",
   "nbconvert_exporter": "python",
   "pygments_lexer": "ipython3",
   "version": "3.7.3"
  }
 },
 "nbformat": 4,
 "nbformat_minor": 2
}
