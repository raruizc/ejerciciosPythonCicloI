{
 "cells": [
  {
   "cell_type": "markdown",
   "metadata": {},
   "source": [
    "## Tuplas en Python\n",
    "\n",
    "Una tupla es una secuencia de elementos que puede almacenar datos heterogeneos tales como: float, strings, listas y diccionarios. Como los strings, las tuplas son inmutables."
   ]
  },
  {
   "cell_type": "code",
   "execution_count": 70,
   "metadata": {},
   "outputs": [
    {
     "name": "stdout",
     "output_type": "stream",
     "text": [
      "()\n"
     ]
    }
   ],
   "source": [
    "#Así se crea una tupla vacía\n",
    "tupl = ()\n",
    "print(tupl)"
   ]
  },
  {
   "cell_type": "code",
   "execution_count": 69,
   "metadata": {},
   "outputs": [
    {
     "name": "stdout",
     "output_type": "stream",
     "text": [
      "('Este es un elemento',)\n"
     ]
    }
   ],
   "source": [
    "#Una tupla con un elemento\n",
    "tupl2 = (\"Este es un elemento\", ) #python requiere la coma final para considerarla como una tupla\n",
    "print(tupl2)"
   ]
  },
  {
   "cell_type": "markdown",
   "metadata": {},
   "source": [
    "Para crear una tupla, se almacenan los valores separados por comas:"
   ]
  },
  {
   "cell_type": "code",
   "execution_count": 5,
   "metadata": {},
   "outputs": [
    {
     "name": "stdout",
     "output_type": "stream",
     "text": [
      "(1, 2, 3, 4.6, 'hola', 'a')\n"
     ]
    }
   ],
   "source": [
    "tup = (1, 2, 3, 4.6, 'hola', 'a') #una tupla de 6 elementos\n",
    "print(tup)"
   ]
  },
  {
   "cell_type": "markdown",
   "metadata": {},
   "source": [
    "## Variables"
   ]
  },
  {
   "cell_type": "markdown",
   "metadata": {},
   "source": [
    "Si se define una variable así, también se creará una tupla:"
   ]
  },
  {
   "cell_type": "code",
   "execution_count": 7,
   "metadata": {},
   "outputs": [],
   "source": [
    "x = () # x igual a tupla vacía"
   ]
  },
  {
   "cell_type": "code",
   "execution_count": 8,
   "metadata": {},
   "outputs": [],
   "source": [
    "tup = (1, 2, 3, 4.6, 'hola', 'a') #tup es igual a esta tupla con 6 elementos"
   ]
  },
  {
   "cell_type": "code",
   "execution_count": 3,
   "metadata": {},
   "outputs": [
    {
     "data": {
      "text/plain": [
       "(1, 2, 3)"
      ]
     },
     "execution_count": 3,
     "metadata": {},
     "output_type": "execute_result"
    }
   ],
   "source": [
    "a = 1, 2, 3\n",
    "a"
   ]
  },
  {
   "cell_type": "code",
   "execution_count": 4,
   "metadata": {},
   "outputs": [
    {
     "data": {
      "text/plain": [
       "tuple"
      ]
     },
     "execution_count": 4,
     "metadata": {},
     "output_type": "execute_result"
    }
   ],
   "source": [
    "type(a)"
   ]
  },
  {
   "cell_type": "markdown",
   "metadata": {},
   "source": [
    "## Tuplas anidadas\n",
    "\n",
    "Es posible crear tuplas que tengan tuplas como elementos (anidadas)"
   ]
  },
  {
   "cell_type": "code",
   "execution_count": 71,
   "metadata": {},
   "outputs": [
    {
     "name": "stdout",
     "output_type": "stream",
     "text": [
      "((0, 1, 2, 3), ('A', 'B', 'C'))\n",
      "(0, 1, 2, 3)\n",
      "A\n"
     ]
    }
   ],
   "source": [
    "tuple1 = (0, 1, 2, 3)\n",
    "tuple2 = ('A', 'B', 'C')\n",
    "tuple3 = (tuple1, tuple2)\n",
    "print(tuple3)\n",
    "print(tuple3[0])\n",
    "print(tuple3[1][0])"
   ]
  },
  {
   "cell_type": "markdown",
   "metadata": {},
   "source": [
    "## Operador concatenar\n",
    "\n",
    "Concatena dos tuplas"
   ]
  },
  {
   "cell_type": "code",
   "execution_count": 11,
   "metadata": {},
   "outputs": [
    {
     "name": "stdout",
     "output_type": "stream",
     "text": [
      "('A', 'B', 'C', 'E', 1, 2, 3, 4, 5)\n"
     ]
    }
   ],
   "source": [
    "tup1 = ('A', 'B', 'C', 'E')\n",
    "tup2 = (1,2,3,4,5)\n",
    "tup3 = tup1 + tup2\n",
    "print(tup3)"
   ]
  },
  {
   "cell_type": "markdown",
   "metadata": {},
   "source": [
    "## Operador repetir\n",
    "\n",
    "Crea una tupla con múltiples copias de una tupla, tantas como se defina:"
   ]
  },
  {
   "cell_type": "code",
   "execution_count": 14,
   "metadata": {},
   "outputs": [
    {
     "name": "stdout",
     "output_type": "stream",
     "text": [
      "(1, 2, 3, 4, 5, 1, 2, 3, 4, 5, 1, 2, 3, 4, 5)\n",
      "('Abc', 'Bcd', 'Abc', 'Bcd')\n"
     ]
    }
   ],
   "source": [
    "tup2 = (1,2,3,4,5)\n",
    "tup3 = tup2*3\n",
    "print(tup3)\n",
    "tup4 = ('Abc', 'Bcd')\n",
    "tup5 = tup4*2\n",
    "print(tup5)"
   ]
  },
  {
   "cell_type": "markdown",
   "metadata": {},
   "source": [
    "## Operador Comparar\n",
    "\n",
    "Es posible comparar dos tuplas con ==, >=, <, <=, != Se comparan de izquierda a derecha:"
   ]
  },
  {
   "cell_type": "code",
   "execution_count": 34,
   "metadata": {},
   "outputs": [
    {
     "name": "stdout",
     "output_type": "stream",
     "text": [
      "True\n",
      "False\n",
      "True\n"
     ]
    }
   ],
   "source": [
    "print( ('Rojas', 123) < ('Rosas', 123) )\n",
    "print( ('Rosas', 123) == ('rosas', 123) )\n",
    "print( ('Rosas', 123) > ('Rosas', 23) )"
   ]
  },
  {
   "cell_type": "code",
   "execution_count": 35,
   "metadata": {},
   "outputs": [
    {
     "name": "stdout",
     "output_type": "stream",
     "text": [
      "True\n",
      "False\n"
     ]
    }
   ],
   "source": [
    "a = ('Rojas', 123)\n",
    "b = (\"Rojas\", 123)\n",
    "c = (\"Rosas\", 123)\n",
    "\n",
    "print( a == b )\n",
    "print( a == c )\n"
   ]
  },
  {
   "cell_type": "markdown",
   "metadata": {},
   "source": [
    "## Operador is"
   ]
  },
  {
   "cell_type": "markdown",
   "metadata": {},
   "source": [
    "Se puede usar el operador is para determinar si dos tuplas son la misma (referencian al mismo objeto). "
   ]
  },
  {
   "cell_type": "code",
   "execution_count": 83,
   "metadata": {},
   "outputs": [
    {
     "name": "stdout",
     "output_type": "stream",
     "text": [
      "1822246202952\n",
      "1822245909448\n",
      "True\n",
      "False\n",
      "True\n",
      "True\n"
     ]
    }
   ],
   "source": [
    "a = ('Rojas', 123)\n",
    "b = (\"Rojas\", 123)\n",
    "c = a\n",
    "print(id(a))\n",
    "print(id(b))\n",
    "print( a == b )\n",
    "print( a is b )\n",
    "print( a == c )\n",
    "print( a is c )"
   ]
  },
  {
   "cell_type": "markdown",
   "metadata": {},
   "source": [
    "## Operador subindice [] (subscript)"
   ]
  },
  {
   "cell_type": "markdown",
   "metadata": {},
   "source": [
    "Para acceder a un valor particular de una tupla se especifica su posición con corchetes ```[]```:"
   ]
  },
  {
   "cell_type": "code",
   "execution_count": 78,
   "metadata": {},
   "outputs": [
    {
     "name": "stdout",
     "output_type": "stream",
     "text": [
      "Ironman\n",
      "Hulk\n",
      "Hulk\n",
      "Spiderman\n"
     ]
    }
   ],
   "source": [
    "avengers = (\"Ironman\", \"Spiderman\", \"Ant-man\", \"Hulk\")\n",
    "print(avengers[0]) \n",
    "print(avengers[3])\n",
    "print(avengers[-1])    \n",
    "print(avengers[-3])   "
   ]
  },
  {
   "cell_type": "markdown",
   "metadata": {},
   "source": [
    "### Subtuplas\n",
    "\n",
    "Obtener una parte de la tupla [inicio:fin:incremento]"
   ]
  },
  {
   "cell_type": "code",
   "execution_count": 17,
   "metadata": {},
   "outputs": [
    {
     "data": {
      "text/plain": [
       "('Spiderman', 'Ant-man')"
      ]
     },
     "execution_count": 17,
     "metadata": {},
     "output_type": "execute_result"
    }
   ],
   "source": [
    "avengers[1:3]"
   ]
  },
  {
   "cell_type": "code",
   "execution_count": 8,
   "metadata": {},
   "outputs": [
    {
     "data": {
      "text/plain": [
       "('The Wasp', 'Thor', 'Hulk', 'Ant-man', 'Spiderman', 'Ironman')"
      ]
     },
     "execution_count": 8,
     "metadata": {},
     "output_type": "execute_result"
    }
   ],
   "source": [
    "avengers[::-1]"
   ]
  },
  {
   "cell_type": "markdown",
   "metadata": {},
   "source": [
    "Si se intenta indexar por fuera de la tupla, se retorna una tupla vacía:"
   ]
  },
  {
   "cell_type": "code",
   "execution_count": 9,
   "metadata": {},
   "outputs": [
    {
     "data": {
      "text/plain": [
       "()"
      ]
     },
     "execution_count": 9,
     "metadata": {},
     "output_type": "execute_result"
    }
   ],
   "source": [
    "avengers[len(avengers):len(avengers)+1]"
   ]
  },
  {
   "cell_type": "markdown",
   "metadata": {},
   "source": [
    "## Consultando una tupla  (operador in)\n",
    "\n",
    "Para saber si un elemento está en una tupla se puede utilizar el operador in:"
   ]
  },
  {
   "cell_type": "code",
   "execution_count": 38,
   "metadata": {},
   "outputs": [
    {
     "name": "stdout",
     "output_type": "stream",
     "text": [
      "yes\n"
     ]
    }
   ],
   "source": [
    "text = ('cien', 'años', 'de', 'soledad' )\n",
    "if 'años' in text:\n",
    "    print('yes')"
   ]
  },
  {
   "cell_type": "markdown",
   "metadata": {},
   "source": [
    "## Iterando una tupla "
   ]
  },
  {
   "cell_type": "markdown",
   "metadata": {},
   "source": [
    "Es posible iterar una tupla usando el ciclo for:"
   ]
  },
  {
   "cell_type": "code",
   "execution_count": 42,
   "metadata": {},
   "outputs": [
    {
     "name": "stdout",
     "output_type": "stream",
     "text": [
      "hola, amigos, mios, "
     ]
    }
   ],
   "source": [
    "s = (\"hola\", \"amigos\", \"mios\")\n",
    "for palabra in s: #para cada palabra de la tupla\n",
    "    print(palabra + \",\", end=' ')"
   ]
  },
  {
   "cell_type": "markdown",
   "metadata": {},
   "source": [
    "## Asignando múltiples variables \n",
    "\n",
    "Es posible asignarle los valores a un grupo de variables usando la asignación y el concepto de tupla."
   ]
  },
  {
   "cell_type": "code",
   "execution_count": 44,
   "metadata": {},
   "outputs": [
    {
     "name": "stdout",
     "output_type": "stream",
     "text": [
      "a= 1\n",
      "b= -2\n",
      "c= 3\n"
     ]
    }
   ],
   "source": [
    "tupla = (1, -2, 3)\n",
    "a, b, c = tupla\n",
    "print('a=', a)\n",
    "print('b=', b)\n",
    "print('c=', c)"
   ]
  },
  {
   "cell_type": "markdown",
   "metadata": {},
   "source": [
    "## Intercambiando variables\n",
    "\n",
    "Es posible intercambiar los valores de un grupo de variables usando la\n",
    "asignación y el concepto de tupla."
   ]
  },
  {
   "cell_type": "code",
   "execution_count": 46,
   "metadata": {},
   "outputs": [
    {
     "name": "stdout",
     "output_type": "stream",
     "text": [
      "a= 3\n",
      "b= 1\n"
     ]
    }
   ],
   "source": [
    "a = 1\n",
    "b = 3\n",
    "a, b = b, a\n",
    "print('a=', a)\n",
    "print('b=', b)"
   ]
  },
  {
   "cell_type": "markdown",
   "metadata": {},
   "source": [
    "## Tuplas y funciones\n",
    "\n",
    "Es posible retornar más de un valor en una función usando el concepto de tupla:"
   ]
  },
  {
   "cell_type": "code",
   "execution_count": 48,
   "metadata": {},
   "outputs": [
    {
     "name": "stdout",
     "output_type": "stream",
     "text": [
      "min= 5 max= 13\n",
      "min= -4 max= 12\n"
     ]
    }
   ],
   "source": [
    "def minmax( a, b ):\n",
    "  if a<b:\n",
    "    return a, b\n",
    "  else:\n",
    "    return b,a\n",
    "\n",
    "x, y = minmax( 5, 13 )\n",
    "print('min=', x, 'max=', y)\n",
    "x, y = minmax( 12, -4)\n",
    "print('min=', x, 'max=', y)"
   ]
  },
  {
   "cell_type": "markdown",
   "metadata": {},
   "source": [
    "## Métodos de tuplas"
   ]
  },
  {
   "cell_type": "markdown",
   "metadata": {},
   "source": [
    "Longitud (dimensión) de la tupla: "
   ]
  },
  {
   "cell_type": "code",
   "execution_count": 52,
   "metadata": {},
   "outputs": [
    {
     "name": "stdout",
     "output_type": "stream",
     "text": [
      "4\n",
      "2\n",
      "3\n"
     ]
    }
   ],
   "source": [
    "tup = (1,2,3,4)\n",
    "nombre = (\"Minch\", \"Yoda\")\n",
    "trabajo = (\"Stars\", \"War\", \"Movie\")\n",
    "print(len(tup))\n",
    "print(len(nombre))\n",
    "print(len(trabajo))"
   ]
  },
  {
   "cell_type": "markdown",
   "metadata": {},
   "source": [
    "## Contando\n",
    "\n",
    "El método count obtiene las veces que un elemento se encuentra en una tupla."
   ]
  },
  {
   "cell_type": "code",
   "execution_count": 56,
   "metadata": {},
   "outputs": [
    {
     "name": "stdout",
     "output_type": "stream",
     "text": [
      "1\n",
      "3\n",
      "1\n"
     ]
    }
   ],
   "source": [
    "tupla = (4, 3, 8, 8, 2, 5, 4, 6, 8, 9)\n",
    "print(tupla.count(2))\n",
    "print(tupla.count(8))\n",
    "print(tupla.count(5))"
   ]
  },
  {
   "cell_type": "markdown",
   "metadata": {},
   "source": [
    "## Buscando \n",
    "\n",
    "El método index obtiene la primera ocurrencia de un elemento en una tupla."
   ]
  },
  {
   "cell_type": "code",
   "execution_count": 57,
   "metadata": {},
   "outputs": [
    {
     "name": "stdout",
     "output_type": "stream",
     "text": [
      "4\n",
      "2\n",
      "5\n"
     ]
    }
   ],
   "source": [
    "tupla = (4, 3, 8, 8, 2, 5, 4, 6, 8, 9)\n",
    "print(tupla.index(2))\n",
    "print(tupla.index(8))\n",
    "print(tupla.index(5))"
   ]
  },
  {
   "cell_type": "markdown",
   "metadata": {},
   "source": [
    "## Máximo y mínimo (max, min) \n",
    "\n",
    "El método max/min obtiene el maximo/mínimo elemento de una tupla.\n"
   ]
  },
  {
   "cell_type": "code",
   "execution_count": 58,
   "metadata": {},
   "outputs": [],
   "source": [
    "t = (4,5,-1,6,7) "
   ]
  },
  {
   "cell_type": "code",
   "execution_count": 59,
   "metadata": {},
   "outputs": [
    {
     "data": {
      "text/plain": [
       "7"
      ]
     },
     "execution_count": 59,
     "metadata": {},
     "output_type": "execute_result"
    }
   ],
   "source": [
    "max(t)"
   ]
  },
  {
   "cell_type": "code",
   "execution_count": 60,
   "metadata": {},
   "outputs": [
    {
     "data": {
      "text/plain": [
       "-1"
      ]
     },
     "execution_count": 60,
     "metadata": {},
     "output_type": "execute_result"
    }
   ],
   "source": [
    "min(t)"
   ]
  },
  {
   "cell_type": "code",
   "execution_count": 12,
   "metadata": {},
   "outputs": [],
   "source": [
    "t = (4,-1,4.0,-2)"
   ]
  },
  {
   "cell_type": "code",
   "execution_count": 32,
   "metadata": {},
   "outputs": [
    {
     "data": {
      "text/plain": [
       "4"
      ]
     },
     "execution_count": 32,
     "metadata": {},
     "output_type": "execute_result"
    }
   ],
   "source": [
    "max(t)"
   ]
  },
  {
   "cell_type": "code",
   "execution_count": 13,
   "metadata": {},
   "outputs": [
    {
     "data": {
      "text/plain": [
       "4.0"
      ]
     },
     "execution_count": 13,
     "metadata": {},
     "output_type": "execute_result"
    }
   ],
   "source": [
    "t = (4.0,-1,4,-2)\n",
    "max(t)"
   ]
  },
  {
   "cell_type": "code",
   "execution_count": 61,
   "metadata": {},
   "outputs": [
    {
     "data": {
      "text/plain": [
       "'zorg'"
      ]
     },
     "execution_count": 61,
     "metadata": {},
     "output_type": "execute_result"
    }
   ],
   "source": [
    "tup1 = ('alice', 'bob', 'zorg')\n",
    "max(tup1)"
   ]
  },
  {
   "cell_type": "code",
   "execution_count": 35,
   "metadata": {},
   "outputs": [
    {
     "data": {
      "text/plain": [
       "'alice'"
      ]
     },
     "execution_count": 35,
     "metadata": {},
     "output_type": "execute_result"
    }
   ],
   "source": [
    "min(tup1)"
   ]
  },
  {
   "cell_type": "markdown",
   "metadata": {},
   "source": [
    "## De cadena a tupla\n",
    "\n",
    "El método tuple se usa para crear tuplas a partir de otros objetos, aquí se usa para convertir una cadena de carácteres a tupla."
   ]
  },
  {
   "cell_type": "code",
   "execution_count": 62,
   "metadata": {},
   "outputs": [
    {
     "name": "stdout",
     "output_type": "stream",
     "text": [
      "('D', 'u', 'm', 'b', 'l', 'e', 'd', 'o', 'r', 'e')\n"
     ]
    }
   ],
   "source": [
    "magician = 'Dumbledore'\n",
    "tm = tuple(magician) \n",
    "print(tm)"
   ]
  },
  {
   "cell_type": "markdown",
   "metadata": {},
   "source": [
    "## La palabra del"
   ]
  },
  {
   "cell_type": "markdown",
   "metadata": {},
   "source": [
    "```del``` se puede utilizar para eliminar una tupla del notebook"
   ]
  },
  {
   "cell_type": "code",
   "execution_count": 65,
   "metadata": {},
   "outputs": [],
   "source": [
    "del(tm)\n",
    "#tm"
   ]
  },
  {
   "cell_type": "markdown",
   "metadata": {},
   "source": [
    "## Desempacar (unpacking) de variables\n",
    "\n",
    "Una forma rápida de desempacar y asignar variables de una tupla es la siguiente:"
   ]
  },
  {
   "cell_type": "code",
   "execution_count": 66,
   "metadata": {},
   "outputs": [
    {
     "name": "stdout",
     "output_type": "stream",
     "text": [
      "a: 1 b: 2 c: 3\n"
     ]
    }
   ],
   "source": [
    "\n",
    "tup1 = (1, 2, 3)\n",
    "a, b, c = tup1\n",
    "print('a:', a, 'b:', b, 'c:', c)\n",
    "#Si se intentan obtener más valores de los que tiene la tupla se obtendrá el error: ```ValueError```\n",
    "tup1 = (5,6)\n",
    "#a,b,c = tup1 #ValueError!"
   ]
  },
  {
   "cell_type": "markdown",
   "metadata": {},
   "source": [
    "## La función ```map(function, tuple|list)```"
   ]
  },
  {
   "cell_type": "markdown",
   "metadata": {},
   "source": [
    "Ejecuta una función para cada uno de los valores de una tupla o una lista. Un truco muy usado es leer todos los valores de una tupla en una sola línea:"
   ]
  },
  {
   "cell_type": "code",
   "execution_count": 68,
   "metadata": {},
   "outputs": [
    {
     "name": "stdout",
     "output_type": "stream",
     "text": [
      "1 2 3\n",
      "(1, 2, 3)\n",
      "3\n"
     ]
    }
   ],
   "source": [
    "t = tuple(map(int, input().split(' '))) #digite por ejemplo 1 2 3\n",
    "print(t) \n",
    "print(t[0] + t[1])"
   ]
  },
  {
   "cell_type": "markdown",
   "metadata": {},
   "source": [
    "## Ejercicio 1\n",
    "\n",
    "Obtener por código el elemento 20 de la siguiente tupla:\n",
    "\n"
   ]
  },
  {
   "cell_type": "code",
   "execution_count": 1,
   "metadata": {},
   "outputs": [],
   "source": [
    "aTuple = (\"Naranjita\", [10, 20, 30], (5, 15, 25))"
   ]
  },
  {
   "cell_type": "code",
   "execution_count": null,
   "metadata": {},
   "outputs": [],
   "source": []
  },
  {
   "cell_type": "markdown",
   "metadata": {},
   "source": [
    "## Ejercicio 2\n",
    "\n",
    "Dados dos números enteros construya una función que retorne al mismo tiempo el cociente y el residuo de la división utilizando tuplas:\n",
    "\n",
    "<table>\n",
    "    <tr>\n",
    "    <td>input</td><td>output</td>\n",
    "    <tr>\n",
    "    <tr>\n",
    "    <td>10<br>3</td><td>cociente: 3<br>residuo: 1</td>\n",
    "    <tr>\n",
    "<table>"
   ]
  },
  {
   "cell_type": "code",
   "execution_count": null,
   "metadata": {},
   "outputs": [],
   "source": []
  },
  {
   "cell_type": "markdown",
   "metadata": {},
   "source": [
    "## Ejercicio 3 - Distancia entre dos puntos\n",
    "\n",
    "Utilizando tuplas elabore una función que retorne la distancia entre dos puntos $p$ y $q$ definidos en un espacio de 3 dimensiones:\n",
    "\n",
    "La distancia corresponde a aplicar: $d = \\sqrt{(x_2-x_1)^2 + (y_2-y_1)^2 + (z_2-z_1)^2}$ \n",
    "\n",
    "\n",
    "![](images/3dpoints.gif)\n",
    "\n",
    "### Entrada\n",
    "La entrada corresponde a los valores de cada una de las coordenadas x, y, z de cada punto:\n",
    "\n",
    "### Salida\n",
    "Un único valor correspondiente a la distancia entre los dos puntos.\n",
    "\n",
    "<table>\n",
    "    <tr>\n",
    "        <td>Input</td><td>output</td>\n",
    "    </tr>\n",
    "    <tr>\n",
    "        <td>0 1 1<br>-1 -1 4</td><td>3.7416573867739413</td>\n",
    "    </tr>\n",
    "    \n",
    "Para una mayor referencia puede consultar [distancias en el espacio](https://www.vadenumeros.es/segundo/distancias-en-el-espacio.htm)"
   ]
  },
  {
   "cell_type": "code",
   "execution_count": null,
   "metadata": {},
   "outputs": [],
   "source": []
  },
  {
   "cell_type": "markdown",
   "metadata": {},
   "source": [
    "# Referencias:\n",
    "\n",
    "https://www.geeksforgeeks.org/tuples-in-python/\n",
    "\n",
    "Das, B. N. (2017). Learn Python in 7 Days. Packt Publishing Ltd.\n",
    "\n",
    "[https://www.wolframalpha.com](https://www.wolframalpha.com/input/?i=distance+between+two+points&assumption=%7B%22MC%22%2C+%22%22%7D+-%3E+%7B%22Calculator%22%7D&assumption=%7B%22F%22%2C+%22DistanceCalculator%22%2C+%22point1%22%7D+-%3E%22%7B0%2C+1%2C+1%7D%22&assumption=%7B%22F%22%2C+%22DistanceCalculator%22%2C+%22point2%22%7D+-%3E%22%7B-1%2C+-1%2C+4%7D%22)\n",
    "\n",
    "https://www.vadenumeros.es/segundo/distancias-en-el-espacio.htm\n",
    "\n",
    "Gomez, J, Rodriguez A y Cubides C. La ciencia de Programar. Universidad Nacional de Colombia.\n",
    "\n",
    "Rodríguez, A (2020). Curso de Programación en Python. https://github.com/arleserp/cursopython"
   ]
  }
 ],
 "metadata": {
  "kernelspec": {
   "display_name": "Python 3",
   "language": "python",
   "name": "python3"
  },
  "language_info": {
   "codemirror_mode": {
    "name": "ipython",
    "version": 3
   },
   "file_extension": ".py",
   "mimetype": "text/x-python",
   "name": "python",
   "nbconvert_exporter": "python",
   "pygments_lexer": "ipython3",
   "version": "3.7.3"
  }
 },
 "nbformat": 4,
 "nbformat_minor": 2
}
