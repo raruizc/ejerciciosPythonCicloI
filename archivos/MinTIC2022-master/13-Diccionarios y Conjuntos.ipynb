{
 "cells": [
  {
   "cell_type": "markdown",
   "metadata": {},
   "source": [
    "# Diccionarios\n",
    "\n",
    "Así como en una lista los valores están indexados por su posición, en un diccionario los valores van a estar indexados por sus llaves. La sintaxis de un diccionario es:\n",
    "\n",
    "```nombre_dict = { key1: value1, key2: value2}```:"
   ]
  },
  {
   "cell_type": "code",
   "execution_count": 3,
   "metadata": {},
   "outputs": [
    {
     "name": "stdout",
     "output_type": "stream",
     "text": [
      "{'edad': 40, 'genero': 'Masculino', 'nombre': 'JuanSalvador', 'apellido': 'Gaviota'}\n"
     ]
    }
   ],
   "source": [
    "datos = {\"edad\": 40, \"genero\": 'Masculino', \"nombre\": 'JuanSalvador', \"apellido\": 'Gaviota'}\n",
    "print(datos)"
   ]
  },
  {
   "cell_type": "code",
   "execution_count": 1,
   "metadata": {},
   "outputs": [
    {
     "name": "stdout",
     "output_type": "stream",
     "text": [
      "{22: 'SSH', 23: 'Telnet', 80: 'HTTP', 3306: 'MySQL'}\n"
     ]
    }
   ],
   "source": [
    "puertos = { 22: 'SSH', 23: 'Telnet', 80: 'HTTP', 3306: 'MySQL'}\n",
    "print(puertos)"
   ]
  },
  {
   "cell_type": "markdown",
   "metadata": {},
   "source": [
    "Cada pareja llave valor es considerada un ítem. La llave y el valor están separados por ```:```, cada ítem está separado por comas ```,``` y los items están rodeados por llaves ```{``` ```}```. Un diccionario vacío puede crearse así: ```{}```. Las características clave de un diccionario son:\n",
    "\n",
    "- La llave de un ítem no puede ser cambiada\n",
    "- Un string, int, o float puede ser usado como llave.\n",
    "- Una tupla que no contenga listas puede ser usada como llave.\n",
    "- Las llaves son únicas.\n",
    "- Los valores pueden ser cualquier tipo de dato.\n",
    "- Los valores pueden estar repetidos.\n",
    "- Los valores pueden ser cambiados.\n",
    "- Un diccionario es una colección desordenada (el orden en el que se ingresen los datos es independiente de la forma en la que se almacenan en la estructura de datos).\n"
   ]
  },
  {
   "cell_type": "markdown",
   "metadata": {},
   "source": [
    "## Unir diccionarios\n",
    "\n",
    "Es posible añadir las llaves de un diccionario en otro diccionario con ```update```:\n",
    "\n"
   ]
  },
  {
   "cell_type": "code",
   "execution_count": null,
   "metadata": {},
   "outputs": [],
   "source": [
    "dict_ports1 = {22: \"SSH\", 23: \"telnet\", 80: \"Http\"}\n",
    "dict_ports2 = {53 :\"DNS\", 443 : \"https\"}\n",
    "dict_ports1.update(dict_ports2)\n",
    "print(dict_ports1)"
   ]
  },
  {
   "cell_type": "markdown",
   "metadata": {},
   "source": [
    "## Comparar\n",
    "\n",
    "Se usa los operadores convencionales `==`y `!=` para comparar diccionarios. Se mira si los diccionarios tienen los mismos ítems. Para el programa "
   ]
  },
  {
   "cell_type": "code",
   "execution_count": 8,
   "metadata": {},
   "outputs": [
    {
     "name": "stdout",
     "output_type": "stream",
     "text": [
      "True\n",
      "True\n",
      "False\n"
     ]
    }
   ],
   "source": [
    "a = {123:'Rojas', 87:'Rosas'} == {87:'Rosas', 123:\"Rojas\"}\n",
    "print(a)\n",
    "print({'Rosas':123} != {'rosas':123} )\n",
    "b =  {123:'Rosas', 87:'rojas'} == {'Rosas':123, 87:'rojas'}\n",
    "print(b)"
   ]
  },
  {
   "cell_type": "markdown",
   "metadata": {},
   "source": [
    "## Comparar (is)\n",
    "\n",
    "Se puede usar el operador `is` para determinar si dos diccionarios son elmismo (referencian al mismo objeto). "
   ]
  },
  {
   "cell_type": "code",
   "execution_count": 11,
   "metadata": {},
   "outputs": [
    {
     "name": "stdout",
     "output_type": "stream",
     "text": [
      "True\n",
      "False\n",
      "True\n",
      "True\n"
     ]
    }
   ],
   "source": [
    "a = {123:'Rojas', 87:'rosas'}\n",
    "b = {87:'rosas', 123:'Rojas'}\n",
    "c = a\n",
    "print( a == b )\n",
    "print( a is b )\n",
    "print( a == c )\n",
    "print( a is c )"
   ]
  },
  {
   "cell_type": "markdown",
   "metadata": {},
   "source": [
    "## Accediendo a  a un valor\n",
    "\n",
    "Para acceder a un valor en un diccionario es necesario tener la llave."
   ]
  },
  {
   "cell_type": "code",
   "execution_count": 2,
   "metadata": {},
   "outputs": [],
   "source": [
    "puertos = { 22: 'SSH', 23: 'Telnet', 80: 'HTTP', 3306: 'MySQL'}"
   ]
  },
  {
   "cell_type": "markdown",
   "metadata": {},
   "source": [
    "Para obtener el nombre del protocolo correspondiente al puerto 22 se puede hacer lo siguiente:"
   ]
  },
  {
   "cell_type": "code",
   "execution_count": 3,
   "metadata": {},
   "outputs": [
    {
     "name": "stdout",
     "output_type": "stream",
     "text": [
      "SSH\n"
     ]
    }
   ],
   "source": [
    "protocol = puertos[22]\n",
    "print(protocol)"
   ]
  },
  {
   "cell_type": "code",
   "execution_count": 4,
   "metadata": {},
   "outputs": [
    {
     "data": {
      "text/plain": [
       "'MySQL'"
      ]
     },
     "execution_count": 4,
     "metadata": {},
     "output_type": "execute_result"
    }
   ],
   "source": [
    "puertos[3306]"
   ]
  },
  {
   "cell_type": "markdown",
   "metadata": {},
   "source": [
    "Si la llave no está se produce un ```KeyError```:"
   ]
  },
  {
   "cell_type": "code",
   "execution_count": 5,
   "metadata": {},
   "outputs": [
    {
     "ename": "KeyError",
     "evalue": "443",
     "output_type": "error",
     "traceback": [
      "\u001b[1;31m---------------------------------------------------------------------------\u001b[0m",
      "\u001b[1;31mKeyError\u001b[0m                                  Traceback (most recent call last)",
      "\u001b[1;32m<ipython-input-5-b7ffcde03a52>\u001b[0m in \u001b[0;36m<module>\u001b[1;34m\u001b[0m\n\u001b[1;32m----> 1\u001b[1;33m \u001b[0mpuertos\u001b[0m\u001b[1;33m[\u001b[0m\u001b[1;36m443\u001b[0m\u001b[1;33m]\u001b[0m\u001b[1;33m\u001b[0m\u001b[1;33m\u001b[0m\u001b[0m\n\u001b[0m",
      "\u001b[1;31mKeyError\u001b[0m: 443"
     ]
    }
   ],
   "source": [
    "puertos[443]"
   ]
  },
  {
   "cell_type": "markdown",
   "metadata": {},
   "source": [
    "## Actualización de valores en un diccionario\n",
    "\n",
    "Para actualizar valores en un diccionario basta con realizar la siguiente asignación:\n",
    "\n",
    "```dict[key] = new_val```\n"
   ]
  },
  {
   "cell_type": "code",
   "execution_count": null,
   "metadata": {},
   "outputs": [],
   "source": [
    "puertos = {80: \"HTTP\", 23 : \"SMTP\", 443 : \"HTTPS\"}\n",
    "print(puertos)\n",
    "puertos[23] = 'Telnet'\n",
    "print(puertos)"
   ]
  },
  {
   "cell_type": "markdown",
   "metadata": {},
   "source": [
    "Para añadir un valor se realiza la asignación:\n",
    "\n",
    "```dict[new_key] = new_val```"
   ]
  },
  {
   "cell_type": "code",
   "execution_count": null,
   "metadata": {},
   "outputs": [],
   "source": [
    "puertos = {80: \"HTTP\", 23 : \"SMTP\", 443 : \"HTTPS\"}\n",
    "print(puertos)\n",
    "puertos[110] = 'POP'\n",
    "print(puertos)"
   ]
  },
  {
   "cell_type": "markdown",
   "metadata": {},
   "source": [
    "## Eliminación de ítems"
   ]
  },
  {
   "cell_type": "markdown",
   "metadata": {},
   "source": [
    "Con ```del``` es posible eliminar el diccionario entero o los ítems de un diccionario. Si se desea eliminar un ítem se puede utilizar la siguiente sintaxis:\n",
    "\n",
    "```del dict[key]```"
   ]
  },
  {
   "cell_type": "code",
   "execution_count": null,
   "metadata": {},
   "outputs": [],
   "source": [
    "puertos = { 22: 'SSH', 23: 'Telnet', 80: 'HTTP', 3306: 'MySQL'}\n",
    "print(puertos)\n",
    "del puertos[23]\n",
    "print(puertos)"
   ]
  },
  {
   "cell_type": "markdown",
   "metadata": {},
   "source": [
    "## Consultando un diccionario \n",
    "\n",
    "Para validar la existencia de la llave en un diccionario se puede utilizar el operador ```in```"
   ]
  },
  {
   "cell_type": "code",
   "execution_count": null,
   "metadata": {},
   "outputs": [],
   "source": [
    "print(80 in d_port)\n",
    "print(222 in d_port)"
   ]
  },
  {
   "cell_type": "markdown",
   "metadata": {},
   "source": [
    "## Iterando un diccionario\n",
    "\n",
    "Es posible usae el ciclo for y el método items() para obtener los items deun diccionario. "
   ]
  },
  {
   "cell_type": "code",
   "execution_count": 12,
   "metadata": {},
   "outputs": [
    {
     "name": "stdout",
     "output_type": "stream",
     "text": [
      "22 -> SSH\n",
      "23 -> telnet\n",
      "80 -> Http\n"
     ]
    }
   ],
   "source": [
    "dict_ports = {22: \"SSH\", 23: \"telnet\", 80: \"Http\"}\n",
    "for k,v in dict_ports.items():\n",
    "    print(k,'->',v)"
   ]
  },
  {
   "cell_type": "markdown",
   "metadata": {},
   "source": [
    "Es posible iterar un diccionario usando el ciclo for para obtener las claves."
   ]
  },
  {
   "cell_type": "code",
   "execution_count": 14,
   "metadata": {},
   "outputs": [
    {
     "name": "stdout",
     "output_type": "stream",
     "text": [
      "22\n",
      "23\n",
      "80\n"
     ]
    }
   ],
   "source": [
    "dict_ports = {22: \"SSH\", 23: \"telnet\", 80: \"Http\"}\n",
    "for key in dict_ports:\n",
    "    print(key)"
   ]
  },
  {
   "cell_type": "markdown",
   "metadata": {},
   "source": [
    "## Longitud (len)\n",
    "\n",
    "Determina el número de ítems en un diccionario. "
   ]
  },
  {
   "cell_type": "markdown",
   "metadata": {},
   "source": [
    "Obtener la cantidad de ítems:"
   ]
  },
  {
   "cell_type": "code",
   "execution_count": 15,
   "metadata": {},
   "outputs": [
    {
     "data": {
      "text/plain": [
       "3"
      ]
     },
     "execution_count": 15,
     "metadata": {},
     "output_type": "execute_result"
    }
   ],
   "source": [
    "puertos = {80: \"HTTP\", 23 : \"SMTP\", 443 : \"HTTPS\"}\n",
    "len(puertos)"
   ]
  },
  {
   "cell_type": "markdown",
   "metadata": {},
   "source": [
    "## Obteniendo valores\n",
    "\n",
    "Para obtener el valor correspondiente a una llave también se puede utilizar ```get```. \n",
    "\n",
    "```dict.get(key, default=None)```"
   ]
  },
  {
   "cell_type": "code",
   "execution_count": null,
   "metadata": {},
   "outputs": [],
   "source": [
    "dict1 = {'a':1, 'b':2, 'c':3}\n",
    "dict1.get('a')"
   ]
  },
  {
   "cell_type": "code",
   "execution_count": null,
   "metadata": {},
   "outputs": [],
   "source": [
    "dict1.get('d', 'llave no encontrada.')"
   ]
  },
  {
   "cell_type": "markdown",
   "metadata": {},
   "source": [
    "Transformar diccionario en string:"
   ]
  },
  {
   "cell_type": "code",
   "execution_count": null,
   "metadata": {},
   "outputs": [],
   "source": [
    "str(puertos)"
   ]
  },
  {
   "cell_type": "markdown",
   "metadata": {},
   "source": [
    "## Máximo y mínimo\n",
    "\n",
    "Obtener la llave con el valor máximo ó mínimo:\n"
   ]
  },
  {
   "cell_type": "code",
   "execution_count": 16,
   "metadata": {},
   "outputs": [
    {
     "data": {
      "text/plain": [
       "443"
      ]
     },
     "execution_count": 16,
     "metadata": {},
     "output_type": "execute_result"
    }
   ],
   "source": [
    "puertos = {80: \"HTTP\", 23 : \"SMTP\", 443 : \"HTTPS\"}\n",
    "max(puertos)"
   ]
  },
  {
   "cell_type": "code",
   "execution_count": 17,
   "metadata": {},
   "outputs": [
    {
     "data": {
      "text/plain": [
       "23"
      ]
     },
     "execution_count": 17,
     "metadata": {},
     "output_type": "execute_result"
    }
   ],
   "source": [
    "min(puertos)"
   ]
  },
  {
   "cell_type": "markdown",
   "metadata": {},
   "source": [
    "## Obtener una lista de llaves\n",
    "\n",
    "Para obtener una lista de las llaves se puede hacer lo siguiente:"
   ]
  },
  {
   "cell_type": "code",
   "execution_count": null,
   "metadata": {},
   "outputs": [],
   "source": [
    "dict1 = {'a':1, 'b':2, 'c':3}\n",
    "print(list(dict1.keys()))"
   ]
  },
  {
   "cell_type": "markdown",
   "metadata": {},
   "source": [
    "## Obtener una lista de valores\n",
    "\n",
    "Para obtener una lista de los valores:"
   ]
  },
  {
   "cell_type": "code",
   "execution_count": null,
   "metadata": {},
   "outputs": [],
   "source": [
    "dict1 = {'a':1, 'b':2, 'c':3}\n",
    "print(list(dict1.values()))"
   ]
  },
  {
   "cell_type": "markdown",
   "metadata": {},
   "source": [
    "## Conversion de listas de listas y listas de tuplas a diccionario\n",
    "\n",
    "Es posible convertir una lista de listas o una lista de tuplas en un diccionario usando ```dict```."
   ]
  },
  {
   "cell_type": "code",
   "execution_count": null,
   "metadata": {},
   "outputs": [],
   "source": [
    "puertos = [[80,\"http\"],[20,\"ftp\"],[23,\"telnet\"],[443,\"https\"],[53,\"DNS\"]]\n",
    "d_port = dict(puertos)\n",
    "print(d_port)"
   ]
  },
  {
   "cell_type": "code",
   "execution_count": null,
   "metadata": {},
   "outputs": [],
   "source": [
    "puertos = [(80,\"http\"),(20,\"ftp\"),(23,\"telnet\"),(443,\"https\"),(53,\"DNS\")]\n",
    "d_port = dict(puertos)\n",
    "print(d_port)"
   ]
  },
  {
   "cell_type": "markdown",
   "metadata": {},
   "source": [
    "## Eliminar entradas de un diccionario\n",
    "\n",
    "Para eliminar todas las entradas de un diccionario se utiliza ```clear()```:"
   ]
  },
  {
   "cell_type": "code",
   "execution_count": null,
   "metadata": {},
   "outputs": [],
   "source": [
    "dict_ports = {22: \"SSH\", 23: \"telnet\", 80: \"Http\"}\n",
    "print(dict_ports)\n",
    "dict_ports.clear()\n",
    "print(dict_ports)"
   ]
  },
  {
   "cell_type": "markdown",
   "metadata": {},
   "source": [
    "## Copiando un diccionario\n",
    "\n",
    "Para obtener la copia de un diccionario se puede utilzar ```dict.copy()```"
   ]
  },
  {
   "cell_type": "code",
   "execution_count": null,
   "metadata": {},
   "outputs": [],
   "source": [
    "port = {80: \"HTTP\", 23 : \"SMTP\", 443 : \"HTTPS\"}\n",
    "copy_port = port.copy()\n",
    "false_copy = port"
   ]
  },
  {
   "cell_type": "code",
   "execution_count": null,
   "metadata": {},
   "outputs": [],
   "source": [
    "false_copy is port"
   ]
  },
  {
   "cell_type": "code",
   "execution_count": null,
   "metadata": {},
   "outputs": [],
   "source": [
    "copy_port is port"
   ]
  },
  {
   "cell_type": "code",
   "execution_count": null,
   "metadata": {},
   "outputs": [],
   "source": [
    "print(copy_port)"
   ]
  },
  {
   "cell_type": "markdown",
   "metadata": {},
   "source": [
    "## Obtener una lista de tuplas de un diccionario\n",
    "\n",
    "Para obtener una lista de tuplas correspondiente al diccionario se utiliza ```items```:"
   ]
  },
  {
   "cell_type": "code",
   "execution_count": null,
   "metadata": {},
   "outputs": [],
   "source": [
    "dict_ports1 = {22: \"SSH\", 23: \"telnet\", 80: \"Http\"}\n",
    "print(list(dict_ports1.items()))"
   ]
  },
  {
   "cell_type": "markdown",
   "metadata": {},
   "source": [
    "## Mostrar las llaves de un diccionario\n",
    "\n",
    "Una forma de mostrar las llaves es la siguiente:"
   ]
  },
  {
   "cell_type": "code",
   "execution_count": null,
   "metadata": {},
   "outputs": [],
   "source": [
    "dict_ports = {22: \"SSH\", 23: \"telnet\", 80: \"Http\"}\n",
    "for key in dict_ports:\n",
    "    print(key)"
   ]
  },
  {
   "cell_type": "code",
   "execution_count": null,
   "metadata": {},
   "outputs": [],
   "source": []
  },
  {
   "cell_type": "markdown",
   "metadata": {},
   "source": [
    "\n",
    "    "
   ]
  },
  {
   "cell_type": "markdown",
   "metadata": {},
   "source": [
    "### Ejercicio 1\n",
    "\n",
    "Utilizando el diccionario de puertos ```port1 = {21: \"FTP\", 22:\"SSH\", 23: \"telnet\", 80:\n",
    "\"http\"}``` cree un nuevo diccionario donde las llaves se vuelvan valores y los valores llaves: así: ```port2 = {\"FTP\":21, \"SSH\":22, \"telnet\":23, \"http\": 80}```\n",
    "\n"
   ]
  },
  {
   "cell_type": "code",
   "execution_count": null,
   "metadata": {},
   "outputs": [],
   "source": [
    "port1 = {21: \"FTP\", 22:\"SSH\", 23: \"telnet\", 80: \"http\"}\n"
   ]
  },
  {
   "cell_type": "markdown",
   "metadata": {},
   "source": [
    "### Ejercicio 2: Yendo al mercado\n",
    "\n",
    "Dory quiere ir al mercado a comprar frutas y vegetales. Como es un poco olvidadiza suele ir al mercado varias veces para ir a comprar diferentes frutas y verduras.\n",
    "\n",
    "Entrada:\n",
    "La entrada de este problema contiene un entero N que es la cantidad de viajes que hace al mercado. En cada viaje se define un número M correspondiente a la cantidad de productos disponibles en el mercado. Después se tienen M productos con sus precios respectivos por kg. La siguiente entrada contiene un entero P que indica la cantidad de productos que Dory quiere comprar. Las siguientes líneas contienen el nombre del producto y la cantidad de kilos que Dory quiere comprar.\n",
    "\n",
    "Salida:\n",
    "Muestre el dinero gastado por Dory en cada viaje al mercado con dos cifras de precisión decimal.\n",
    "\n",
    "<table>\n",
    "    <tr>\n",
    "        <td>Input</td><td>Ouput</td>\n",
    "    </tr>\n",
    "    <tr>\n",
    "        <td>1<br>\n",
    "            5<br>\n",
    "            uva 2.50<br>\n",
    "            banano 4.00<br>\n",
    "            pera 2.10<br>\n",
    "            granadilla 6.00<br>\n",
    "            naranja 5.00<br>\n",
    "            5<br>\n",
    "            uva 10<br>\n",
    "            banano 10<br>\n",
    "            pera 15<br>\n",
    "            granadilla 12<br>\n",
    "            naranja 18<br>\n",
    "        </td><td>$258.50</td>\n",
    "        </tr>\n",
    "</table>\n",
    "   \n"
   ]
  },
  {
   "cell_type": "code",
   "execution_count": null,
   "metadata": {},
   "outputs": [],
   "source": []
  },
  {
   "cell_type": "markdown",
   "metadata": {},
   "source": [
    "# Combinando estructuras de datos:\n",
    "\n",
    "### Ejercicio: \n",
    "\n",
    "¿Cómo representaría la siguiente tabla de datos utilizando un diccionario de diccionarios, donde la llave es el primer nombre de la mascota?\n",
    "\n",
    "![](images/tablita.png)"
   ]
  },
  {
   "cell_type": "code",
   "execution_count": null,
   "metadata": {},
   "outputs": [],
   "source": [
    "Sam = {'Nombre': 'Sam Smith', 'Genero': 'M', 'Ocupación': 'Gato', 'Ciudad': 'Bogotá'}\n",
    "Lobo = {'Nombre': 'Lobo W', 'Genero': 'F', 'Ocupación': 'Perro', 'Ciudad': 'Bogotá'}\n",
    "Marvin = {'Nombre': 'Marvin', 'Genero': 'M', 'Ocupación': 'Loro', 'Ciudad': 'Cali'}\n",
    "Hussain = {'Nombre': 'Hussain', 'Genero': 'F', 'Ocupación': 'Hamster', 'Ciudad': 'Bogotá'}     \n",
    "\n",
    "mascotas = {\"Sam\":Sam, \"Lobo\":Lobo, \"Marvin\":Marvin, \"Hussain\":Hussain}\n"
   ]
  },
  {
   "cell_type": "code",
   "execution_count": null,
   "metadata": {},
   "outputs": [],
   "source": [
    "print(mascotas)"
   ]
  },
  {
   "cell_type": "code",
   "execution_count": null,
   "metadata": {},
   "outputs": [],
   "source": [
    "from pprint import pprint \n",
    "\n",
    "pprint(mascotas)"
   ]
  },
  {
   "cell_type": "markdown",
   "metadata": {},
   "source": [
    "## Ejercicio operaciones:"
   ]
  },
  {
   "cell_type": "markdown",
   "metadata": {},
   "source": [
    "Imprimir la ocupación de Sam:"
   ]
  },
  {
   "cell_type": "code",
   "execution_count": null,
   "metadata": {},
   "outputs": [],
   "source": [
    "mascotas['Sam']['Ocupación']"
   ]
  },
  {
   "cell_type": "markdown",
   "metadata": {},
   "source": [
    "De donde es marvin?"
   ]
  },
  {
   "cell_type": "code",
   "execution_count": null,
   "metadata": {},
   "outputs": [],
   "source": []
  },
  {
   "cell_type": "markdown",
   "metadata": {},
   "source": [
    "A qué se dedica Hussain?"
   ]
  },
  {
   "cell_type": "code",
   "execution_count": null,
   "metadata": {},
   "outputs": [],
   "source": []
  },
  {
   "cell_type": "markdown",
   "metadata": {},
   "source": [
    "Liste las mascotas de Bogotá:"
   ]
  },
  {
   "cell_type": "code",
   "execution_count": null,
   "metadata": {},
   "outputs": [],
   "source": []
  },
  {
   "cell_type": "markdown",
   "metadata": {},
   "source": [
    "Liste las mascotas de Género M:"
   ]
  },
  {
   "cell_type": "code",
   "execution_count": null,
   "metadata": {},
   "outputs": [],
   "source": []
  },
  {
   "cell_type": "markdown",
   "metadata": {},
   "source": [
    "# Conjuntos \n",
    "\n",
    "Los conjuntos en python pueden ser muy útiles para eliminar datos duplicados. Si se tiene una lista de nombres que puede estar duplicada, basta con convertirla en conjunto para eliminar los datos duplicados. Esta estructura también está optimizada para buscar datos pues las listas realizan una búsqueda secuencial. "
   ]
  },
  {
   "cell_type": "markdown",
   "metadata": {},
   "source": [
    "## Definir un conjunto\n",
    "\n",
    "Para definir el conjunto de las vocales:"
   ]
  },
  {
   "cell_type": "code",
   "execution_count": null,
   "metadata": {},
   "outputs": [],
   "source": [
    "vocales = {'a', 'e', 'i', 'o', 'u', 'a', 'a', 'o', 'e'}\n",
    "print(vocales)"
   ]
  },
  {
   "cell_type": "markdown",
   "metadata": {},
   "source": [
    "Los datos no se almacenan necesariamente en orden. A diferencia de un diccionario se tienen datos no ítems de la forma ```llave:valor```.\n",
    "\n",
    "Es posible ordenar un conjunto así:"
   ]
  },
  {
   "cell_type": "code",
   "execution_count": null,
   "metadata": {},
   "outputs": [],
   "source": [
    "sorted(vocales)"
   ]
  },
  {
   "cell_type": "markdown",
   "metadata": {},
   "source": [
    "## Creación de un conjunto a partir de strings, listas o tuplas\n",
    "\n",
    "Se pueden crear conjuntos a partir de strings, listas o tuplas:"
   ]
  },
  {
   "cell_type": "code",
   "execution_count": null,
   "metadata": {},
   "outputs": [],
   "source": [
    "str_vocales = 'aaaeeeeioooouooooi'\n",
    "vocals = set(str_vocales)\n",
    "print(vocals)\n",
    "\n",
    "l_vocals = ['a', 'e', 'i', 'o', 'u', 'i']\n",
    "vocalsl = set(l_vocals)\n",
    "print(vocalsl)\n",
    "\n",
    "t_vocals = ('a', 'e', 'i', 'o', 'u', 'i')\n",
    "vocalst = set(t_vocals)\n",
    "print(vocalsl)\n"
   ]
  },
  {
   "cell_type": "markdown",
   "metadata": {},
   "source": [
    "## Determinar si un elemento pertenece a un conjunto\n",
    "\n",
    "Es posible utilizar el operador ```in``` para saber si un elemento se encuentra en el conjunto:"
   ]
  },
  {
   "cell_type": "code",
   "execution_count": null,
   "metadata": {},
   "outputs": [],
   "source": [
    "print('a' in vocales)"
   ]
  },
  {
   "cell_type": "code",
   "execution_count": null,
   "metadata": {},
   "outputs": [],
   "source": [
    "print('b' in vocales)"
   ]
  },
  {
   "cell_type": "markdown",
   "metadata": {},
   "source": [
    "## Unión de conjuntos\n",
    "\n",
    "Es posible unir dos conjuntos:\n"
   ]
  },
  {
   "cell_type": "code",
   "execution_count": null,
   "metadata": {},
   "outputs": [],
   "source": [
    "seta = set('murcielago')\n",
    "setb = set('externocleidomastoideo')\n",
    "setc = seta.union(setb)\n",
    "print(setc)\n",
    "\n",
    "setc = seta | setb\n",
    "print(setc)"
   ]
  },
  {
   "cell_type": "markdown",
   "metadata": {},
   "source": [
    "## Diferencia de conjuntos\n",
    "\n",
    "Permite examinar los datos que están en un conjunto de palabras que no están en otro:"
   ]
  },
  {
   "cell_type": "code",
   "execution_count": null,
   "metadata": {},
   "outputs": [],
   "source": [
    "stop_wordsA = {'el', 'un', 'la', 'los'}\n",
    "stop_wordsB = {'un', 'una', 'unos', 'el'}"
   ]
  },
  {
   "cell_type": "markdown",
   "metadata": {},
   "source": [
    "Para determinar los elementos que están en stop_wordsA que no están en stop_wordsB basta con:"
   ]
  },
  {
   "cell_type": "code",
   "execution_count": null,
   "metadata": {},
   "outputs": [],
   "source": [
    "print(stop_wordsA - stop_wordsB)\n",
    "print(stop_wordsA.difference(stop_wordsB))"
   ]
  },
  {
   "cell_type": "markdown",
   "metadata": {},
   "source": [
    "Para determinar los elementos que están en stop_wordsB que no están en stop_wordsA basta con:"
   ]
  },
  {
   "cell_type": "code",
   "execution_count": null,
   "metadata": {},
   "outputs": [],
   "source": [
    "print(stop_wordsB - stop_wordsA)\n",
    "print(stop_wordsB.difference(stop_wordsA))"
   ]
  },
  {
   "cell_type": "markdown",
   "metadata": {},
   "source": [
    "## Intersección de conjuntos\n",
    "\n",
    "Para determinar los elementos que tienen en común los conjuntos de stop_words:"
   ]
  },
  {
   "cell_type": "code",
   "execution_count": null,
   "metadata": {},
   "outputs": [],
   "source": [
    "print(stop_wordsB.intersection(stop_wordsA))\n",
    "print(stop_wordsB & stop_wordsA)"
   ]
  },
  {
   "cell_type": "markdown",
   "metadata": {},
   "source": [
    "## Diferencia simétrica\n",
    "\n",
    "La diferencia simétrica consiste en encontrar elementos que están en la unión de dos conjuntos pero no en la intersección"
   ]
  },
  {
   "cell_type": "code",
   "execution_count": null,
   "metadata": {},
   "outputs": [],
   "source": [
    "stop_wordsB ^ stop_wordsA"
   ]
  },
  {
   "cell_type": "markdown",
   "metadata": {},
   "source": [
    "## Leer datos y convertirlos a un tipo de dato dado\n",
    "Para leer enteros separados por espacio y convertirlos a set:"
   ]
  },
  {
   "cell_type": "code",
   "execution_count": null,
   "metadata": {},
   "outputs": [],
   "source": [
    "t = set(map(int, input().split(' ')))\n",
    "print(t) #digite por ejemplo 1 2 3"
   ]
  },
  {
   "cell_type": "markdown",
   "metadata": {},
   "source": [
    "## Ejercicio: Intersección de n Conjuntos:\n",
    "\n",
    "Se tienen n conjuntos. Se desea calcular la intersección de dichos conjuntos. \n",
    "\n",
    "### Entrada:\n",
    "La entrada consta de un número n > 1 de conjuntos seguido por los elementos separados por espacio.\n",
    "\n",
    "### Salida:\n",
    "Muestre la intersección de los n conjuntos ó ```empty set``` si la intersección es un conjunto vacío.\n",
    "\n",
    "### Ejemplo 1\n",
    "\n",
    "<table>\n",
    "    <tr>\n",
    "        <td>Input</td><td>Output</td>\n",
    "    </tr>\n",
    "    <tr>\n",
    "        <td>3<br>\n",
    "            1 2 2 3 4<br>\n",
    "            2 2 3 5 6<br>\n",
    "            1 3 2 2 6<br>\n",
    "        </td><td>2 3\n",
    "    </tr>\n",
    "</table>\n",
    "\n",
    "\n",
    "### Ejemplo 2\n",
    "\n",
    "<table>\n",
    "    <tr>\n",
    "        <td>Input</td><td>Output</td>\n",
    "    </tr>\n",
    "    <tr>\n",
    "        <td>3<br>\n",
    "            1 1<br>\n",
    "            2 2<br>\n",
    "            3 3<br>\n",
    "        </td><td>empty set\n",
    "    </tr>\n",
    "</table>"
   ]
  },
  {
   "cell_type": "markdown",
   "metadata": {},
   "source": [
    "### Referencias:\n",
    "\n",
    "Barry, P. (2016). Head First Python: A Brain-Friendly Guide. \" O'Reilly Media, Inc.\".\n",
    "\n",
    "Das, B. N. (2017). Learn Python in 7 Days. Packt Publishing Ltd.\n",
    "\n",
    "https://codeforces.com/\n",
    "\n",
    "Rodríguez, A (2020). Curso de Programación en Python. https://github.com/arleserp/cursopython"
   ]
  },
  {
   "cell_type": "code",
   "execution_count": null,
   "metadata": {},
   "outputs": [],
   "source": []
  }
 ],
 "metadata": {
  "kernelspec": {
   "display_name": "Python 3",
   "language": "python",
   "name": "python3"
  },
  "language_info": {
   "codemirror_mode": {
    "name": "ipython",
    "version": 3
   },
   "file_extension": ".py",
   "mimetype": "text/x-python",
   "name": "python",
   "nbconvert_exporter": "python",
   "pygments_lexer": "ipython3",
   "version": "3.7.3"
  }
 },
 "nbformat": 4,
 "nbformat_minor": 2
}
