
{
 "cells": [
  {
   "cell_type": "markdown",
   "metadata": {},
   "source": [
    "# Entornos de Desarrollo de \"Escritorio\" \n"
   ]
  },
  {
   "cell_type": "markdown",
   "metadata": {},
   "source": [
    "En los inicios de la computación, los programadores podrían ser considerados lo que llamamos \"toderos\": bases de datos, interfaces gráficas, lógicas de negocio, validaciones, entre otros, eran hechos por cualquier programador.\n",
    "\n",
    "Sin embargo, con el paso del tiempo, y la amplitud que tomo la informática, empezaron a construirse una gran cantidad de lenguajes de programación (de propṕsito general y de propósito específico), librerías, frameworks, que hicieron que las personas empezaran a especializarse ya que es prácticamente imposible ser bueno en todas las tecnologías disponibles para trabajar en computación.\n",
    "\n",
    "Hoy en día se tiene la diferenciación de desarrollador de back-end, front-end, full-stack, además de denominaciones como Data Engineer, Machine Learning Engineer, Data Scientist, entre otros, y progresivamente irán apareciendo más. Esto ha implicado un reto para seleccionar las mejores herramientas de trabajo, las cuales depende de cada situación. Recuerde: para cada tarea se debe escoger la mejor herramienta, en la computación no hay \"balas de plata\".\n",
    "\n",
    "En esta clase vamos a observar unos de los IDE (Integrated Development Environment) más popular en la actualidad en la comunidad de desarrolladores; es importante aclarar que no es el único, y que difícilmente se puede decir que es el mejor, puesto que varían los gustos, pero cabe decir que es bastante bueno. Un IDE es un entorno de trabajo que permite usar diferentes lenguajes de programación, extensiones (o plugins), y más funcionalidades, que permiten que cualquier programador, sin importar el rol o denominación pueda desempeñar sus labores de manera apropiada."
   ]
  },
  {
   "cell_type": "markdown",
   "metadata": {},
   "source": [
    "## Visual Studio Code (VSCode)\n",
    "\n",
    "Basado en el desarrollo de la suite de Visual Studio, Microsoft lanzó en 2015 este IDE el cual es gratuito y de código fuente abierto. \n",
    "\n",
    "Entre sus ventajas está el que es compatible con múltiples lenguajes de programación. Esto lo hace interesante para equipos que trabajan utilizando distintas tecnologías o desempeñándose en distintos roles.\n",
    "\n",
    "Lo pueden descargar en el siguiente enlace: https://code.visualstudio.com/"
   ]
  },
  {
   "cell_type": "markdown",
   "metadata": {},
   "source": [
    "## Antes de...\n",
    "\n",
    "Distinto a las herramientas que funcionan en la web (como CoLab o Repl.it), VS Code se debe instalar en la máquina donde se desee utilizar. Esto tiene una implicación importante: también se deben instalar los lenguajes que se deban utilizar y que no estén aún instalador en la máquina.\n",
    "\n",
    "En este caso, vamos a instalar tres elementos para poder completar el ejercicio de clase: Python, Java, y NodeJS.\n",
    "\n",
    "### Python\n",
    "Para instalar Python se pueden dirigir al link https://www.python.org/downloads/ y descargar la última versión.\n",
    "Como típica instalación, solo debe seguir el asistente dejando todas las configuraciones en los valores por defecto, exceptuando la primera pantalla. En esta, es importante que seleccione la opción \"Add Python 3.x to PATH\", como se observa en la siguiente imagen.\n",
    "![](https://raw.githubusercontent.com/arleserp/MinTIC2022/master/images/python-installation.png \"Python Installation\")\n",
    "\n",
    "### Java\n",
    "Para instalar Java solo es necesario ir al siguiente link, descargar el archivo que corresponde a la última versión de Java, e instalar dejando todos los valores por defecto: https://www.java.com/es/download/\n",
    "\n",
    "### NodeJS\n",
    "Similar a los anteriores lenguajes, se debe ir al sitio oficial, hacer la descarga del archivo de acuerdo al sistema operativo, e instalar dejando todos los valores por defecto: https://nodejs.org/es/download/"
   ]
  },
  {
   "cell_type": "markdown",
   "metadata": {},
   "source": [
    "## Verificar la Instalación"
   ]
  },
  {
   "cell_type": "markdown",
   "metadata": {},
   "source": [
    "Para verificar que se han instalado correctamente los programas, y empezar a manejar un poco herramientas que son comunes en el día a día del programador, vamos a utilizar la ventada de comandos, o terminal. Para los usuarios de Windows, basta con ejecutar las teclas Windows+R y allí colocar \"cmd\", y dar enter.\n",
    "Una vez allí, pueden ejecutar los siguientes comandos para verificar la instalación exitosa de los lenguajes de programación:\n",
    " - python3 --version\n",
    " - java -version\n",
    " - node -v"
   ]
  },
  {
   "cell_type": "markdown",
   "metadata": {},
   "source": [
    "## Interfaz de VS Code"
   ]
  },
  {
   "cell_type": "markdown",
   "metadata": {},
   "source": [
    "La interfaz de VS Code es bastante sencilla, similar a otros IDE que se pueden encontrar en el mercado, e inclusive familiar para aquellos que conocieron a sus antecesores.\n",
    "\n",
    "En este caso, vamos a hacer una exploración sencilla de componentes, y queda en ustedes hacer una exploración más profunda para que encuentren las prestaciones, y esto les permita también explorar y comparar con otros IDE hasta encontrar el que les de mayor sensación de confort. Revisaremos:\n",
    " - Editor de Código\n",
    " - Control de Versiones\n",
    " - Terminar y Consola\n",
    " - Extensiones"
   ]
  },
  {
   "cell_type": "markdown",
   "metadata": {},
   "source": [
    "## A programar\n",
    "\n",
    "Como ejercicio sencillo, vamos a realizar un saludo en cada uno de estos tres lenguajes.\n",
    "En cada uno, se deberá crear un archivo con nombre \"Ejercicio\" en el entorno de VSCode, y se debe guardar el archivo con las extensiones correspondientes (.py para Python, .java para Java, .js para JavaScript).\n",
    "\n",
    "A continuación se dejan los tres fragmentos de código, pero recuerde que en CoLab solo va a ejecutarse el de Python (la finalidad de esta clase no es ejecutar en CoLab).\n"
   ]
  },
  {
   "cell_type": "code",
   "execution_count": 9,
   "metadata": {},
   "outputs": [
    {
     "name": "stdout",
     "output_type": "stream",
     "text": [
      "hola amigos\n"
     ]
    }
   ],
   "source": [
    "# Código de Python\n",
    "print(\"Hola gente de MinTIC 2022\")"
   ]
  },
  {
   "cell_type": "code",
   "execution_count": null,
   "metadata": {},
   "outputs": [],
   "source": [
    "# Código de Java\n",
    "public class Ejercicio {\n",
    "\n",
    "\tpublic static void main(String[] args) {\t\t\n",
    "\t\tSystem.out.println(\"Hola gente de MinTIC 2021\");\n",
    "\t}\n",
    "}"
   ]
  },
  {
   "cell_type": "code",
   "execution_count": 1,
   "metadata": {},
   "outputs": [],
   "source": [
    "# Código de JavaScript\n",
    "let x = \"Hola gente de MinTIC 2022\"\n",
    "console.log(x)"
   ]
  },
  {
   "cell_type": "markdown",
   "metadata": {},
   "source": [
    "## Referencias\n",
    "\n",
    "\n",
    "Barry, P. (2016). Head First Python: A Brain-Friendly Guide. \" O'Reilly Media, Inc.\".\n",
    "\n",
    "Guttag, John. Introduction to Computation and Programming Using Python: With Application to Understanding Data Second Edition. MIT Press, 2016. ISBN: 9780262529624.\n",
    "\n",
    "Tutorial oficial de python 3, disponible en: https://docs.python.org/3/tutorial/interpreter.html\n",
    "\n",
    "Rodríguez, A (2020). Curso de Programación en Python. https://github.com/arleserp/cursopython\n",
    "\n",
    "Curso Básico de JavaScript, disponible en: https://www.codecademy.com/learn/introduction-to-javascript\n",
    "\n",
    "Curso Básico de Java, disponible en: https://www.codecademy.com/learn/learn-java\n",
    "\n",
    "\n",
    "\n"
   ]
  }
 ],
 "metadata": {
  "kernelspec": {
   "display_name": "Python 3",
   "language": "python",
   "name": "python3"
  },
  "language_info": {
   "codemirror_mode": {
    "name": "ipython",
    "version": 3
   },
   "file_extension": ".py",
   "mimetype": "text/x-python",
   "name": "python",
   "nbconvert_exporter": "python",
   "pygments_lexer": "ipython3",
   "version": "3.8.2-final"
  }
 },
 "nbformat": 4,
 "nbformat_minor": 2
}
